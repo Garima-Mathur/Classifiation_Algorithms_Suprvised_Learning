{
  "nbformat": 4,
  "nbformat_minor": 0,
  "metadata": {
    "colab": {
      "name": "Mathur_Garima_FinalProject.ipynb",
      "provenance": [],
      "collapsed_sections": []
    },
    "kernelspec": {
      "display_name": "Python 3",
      "language": "python",
      "name": "python3"
    }
  },
  "cells": [
    {
      "cell_type": "markdown",
      "metadata": {
        "id": "v5bHEhfr_Sqd"
      },
      "source": [
        "# Importing all Libraries :"
      ]
    },
    {
      "cell_type": "code",
      "metadata": {
        "id": "lBTr_1BgfyFQ"
      },
      "source": [
        "import numpy as np\n",
        "import pandas as pd\n",
        "import warnings\n",
        "warnings.filterwarnings('ignore')\n",
        "from sklearn import metrics\n",
        "from sklearn.metrics import confusion_matrix,accuracy_score,classification_report\n",
        "from sklearn.model_selection import train_test_split\n",
        "import math\n",
        "import keras\n",
        "from keras.models import Sequential\n",
        "from tensorflow.keras import layers\n",
        "from keras.layers import Dense\n",
        "from keras.layers import LSTM\n",
        "from keras.layers import *\n",
        "from sklearn.metrics import roc_curve ,auc\n",
        "import matplotlib.pyplot as plt\n",
        "\n",
        "\n"
      ],
      "execution_count": 121,
      "outputs": []
    },
    {
      "cell_type": "markdown",
      "metadata": {
        "id": "K1TgyCXB_j3a"
      },
      "source": [
        "# Uploading the Dataset :"
      ]
    },
    {
      "cell_type": "code",
      "metadata": {
        "colab": {
          "resources": {
            "http://localhost:8080/nbextensions/google.colab/files.js": {
              "data": "Ly8gQ29weXJpZ2h0IDIwMTcgR29vZ2xlIExMQwovLwovLyBMaWNlbnNlZCB1bmRlciB0aGUgQXBhY2hlIExpY2Vuc2UsIFZlcnNpb24gMi4wICh0aGUgIkxpY2Vuc2UiKTsKLy8geW91IG1heSBub3QgdXNlIHRoaXMgZmlsZSBleGNlcHQgaW4gY29tcGxpYW5jZSB3aXRoIHRoZSBMaWNlbnNlLgovLyBZb3UgbWF5IG9idGFpbiBhIGNvcHkgb2YgdGhlIExpY2Vuc2UgYXQKLy8KLy8gICAgICBodHRwOi8vd3d3LmFwYWNoZS5vcmcvbGljZW5zZXMvTElDRU5TRS0yLjAKLy8KLy8gVW5sZXNzIHJlcXVpcmVkIGJ5IGFwcGxpY2FibGUgbGF3IG9yIGFncmVlZCB0byBpbiB3cml0aW5nLCBzb2Z0d2FyZQovLyBkaXN0cmlidXRlZCB1bmRlciB0aGUgTGljZW5zZSBpcyBkaXN0cmlidXRlZCBvbiBhbiAiQVMgSVMiIEJBU0lTLAovLyBXSVRIT1VUIFdBUlJBTlRJRVMgT1IgQ09ORElUSU9OUyBPRiBBTlkgS0lORCwgZWl0aGVyIGV4cHJlc3Mgb3IgaW1wbGllZC4KLy8gU2VlIHRoZSBMaWNlbnNlIGZvciB0aGUgc3BlY2lmaWMgbGFuZ3VhZ2UgZ292ZXJuaW5nIHBlcm1pc3Npb25zIGFuZAovLyBsaW1pdGF0aW9ucyB1bmRlciB0aGUgTGljZW5zZS4KCi8qKgogKiBAZmlsZW92ZXJ2aWV3IEhlbHBlcnMgZm9yIGdvb2dsZS5jb2xhYiBQeXRob24gbW9kdWxlLgogKi8KKGZ1bmN0aW9uKHNjb3BlKSB7CmZ1bmN0aW9uIHNwYW4odGV4dCwgc3R5bGVBdHRyaWJ1dGVzID0ge30pIHsKICBjb25zdCBlbGVtZW50ID0gZG9jdW1lbnQuY3JlYXRlRWxlbWVudCgnc3BhbicpOwogIGVsZW1lbnQudGV4dENvbnRlbnQgPSB0ZXh0OwogIGZvciAoY29uc3Qga2V5IG9mIE9iamVjdC5rZXlzKHN0eWxlQXR0cmlidXRlcykpIHsKICAgIGVsZW1lbnQuc3R5bGVba2V5XSA9IHN0eWxlQXR0cmlidXRlc1trZXldOwogIH0KICByZXR1cm4gZWxlbWVudDsKfQoKLy8gTWF4IG51bWJlciBvZiBieXRlcyB3aGljaCB3aWxsIGJlIHVwbG9hZGVkIGF0IGEgdGltZS4KY29uc3QgTUFYX1BBWUxPQURfU0laRSA9IDEwMCAqIDEwMjQ7CgpmdW5jdGlvbiBfdXBsb2FkRmlsZXMoaW5wdXRJZCwgb3V0cHV0SWQpIHsKICBjb25zdCBzdGVwcyA9IHVwbG9hZEZpbGVzU3RlcChpbnB1dElkLCBvdXRwdXRJZCk7CiAgY29uc3Qgb3V0cHV0RWxlbWVudCA9IGRvY3VtZW50LmdldEVsZW1lbnRCeUlkKG91dHB1dElkKTsKICAvLyBDYWNoZSBzdGVwcyBvbiB0aGUgb3V0cHV0RWxlbWVudCB0byBtYWtlIGl0IGF2YWlsYWJsZSBmb3IgdGhlIG5leHQgY2FsbAogIC8vIHRvIHVwbG9hZEZpbGVzQ29udGludWUgZnJvbSBQeXRob24uCiAgb3V0cHV0RWxlbWVudC5zdGVwcyA9IHN0ZXBzOwoKICByZXR1cm4gX3VwbG9hZEZpbGVzQ29udGludWUob3V0cHV0SWQpOwp9CgovLyBUaGlzIGlzIHJvdWdobHkgYW4gYXN5bmMgZ2VuZXJhdG9yIChub3Qgc3VwcG9ydGVkIGluIHRoZSBicm93c2VyIHlldCksCi8vIHdoZXJlIHRoZXJlIGFyZSBtdWx0aXBsZSBhc3luY2hyb25vdXMgc3RlcHMgYW5kIHRoZSBQeXRob24gc2lkZSBpcyBnb2luZwovLyB0byBwb2xsIGZvciBjb21wbGV0aW9uIG9mIGVhY2ggc3RlcC4KLy8gVGhpcyB1c2VzIGEgUHJvbWlzZSB0byBibG9jayB0aGUgcHl0aG9uIHNpZGUgb24gY29tcGxldGlvbiBvZiBlYWNoIHN0ZXAsCi8vIHRoZW4gcGFzc2VzIHRoZSByZXN1bHQgb2YgdGhlIHByZXZpb3VzIHN0ZXAgYXMgdGhlIGlucHV0IHRvIHRoZSBuZXh0IHN0ZXAuCmZ1bmN0aW9uIF91cGxvYWRGaWxlc0NvbnRpbnVlKG91dHB1dElkKSB7CiAgY29uc3Qgb3V0cHV0RWxlbWVudCA9IGRvY3VtZW50LmdldEVsZW1lbnRCeUlkKG91dHB1dElkKTsKICBjb25zdCBzdGVwcyA9IG91dHB1dEVsZW1lbnQuc3RlcHM7CgogIGNvbnN0IG5leHQgPSBzdGVwcy5uZXh0KG91dHB1dEVsZW1lbnQubGFzdFByb21pc2VWYWx1ZSk7CiAgcmV0dXJuIFByb21pc2UucmVzb2x2ZShuZXh0LnZhbHVlLnByb21pc2UpLnRoZW4oKHZhbHVlKSA9PiB7CiAgICAvLyBDYWNoZSB0aGUgbGFzdCBwcm9taXNlIHZhbHVlIHRvIG1ha2UgaXQgYXZhaWxhYmxlIHRvIHRoZSBuZXh0CiAgICAvLyBzdGVwIG9mIHRoZSBnZW5lcmF0b3IuCiAgICBvdXRwdXRFbGVtZW50Lmxhc3RQcm9taXNlVmFsdWUgPSB2YWx1ZTsKICAgIHJldHVybiBuZXh0LnZhbHVlLnJlc3BvbnNlOwogIH0pOwp9CgovKioKICogR2VuZXJhdG9yIGZ1bmN0aW9uIHdoaWNoIGlzIGNhbGxlZCBiZXR3ZWVuIGVhY2ggYXN5bmMgc3RlcCBvZiB0aGUgdXBsb2FkCiAqIHByb2Nlc3MuCiAqIEBwYXJhbSB7c3RyaW5nfSBpbnB1dElkIEVsZW1lbnQgSUQgb2YgdGhlIGlucHV0IGZpbGUgcGlja2VyIGVsZW1lbnQuCiAqIEBwYXJhbSB7c3RyaW5nfSBvdXRwdXRJZCBFbGVtZW50IElEIG9mIHRoZSBvdXRwdXQgZGlzcGxheS4KICogQHJldHVybiB7IUl0ZXJhYmxlPCFPYmplY3Q+fSBJdGVyYWJsZSBvZiBuZXh0IHN0ZXBzLgogKi8KZnVuY3Rpb24qIHVwbG9hZEZpbGVzU3RlcChpbnB1dElkLCBvdXRwdXRJZCkgewogIGNvbnN0IGlucHV0RWxlbWVudCA9IGRvY3VtZW50LmdldEVsZW1lbnRCeUlkKGlucHV0SWQpOwogIGlucHV0RWxlbWVudC5kaXNhYmxlZCA9IGZhbHNlOwoKICBjb25zdCBvdXRwdXRFbGVtZW50ID0gZG9jdW1lbnQuZ2V0RWxlbWVudEJ5SWQob3V0cHV0SWQpOwogIG91dHB1dEVsZW1lbnQuaW5uZXJIVE1MID0gJyc7CgogIGNvbnN0IHBpY2tlZFByb21pc2UgPSBuZXcgUHJvbWlzZSgocmVzb2x2ZSkgPT4gewogICAgaW5wdXRFbGVtZW50LmFkZEV2ZW50TGlzdGVuZXIoJ2NoYW5nZScsIChlKSA9PiB7CiAgICAgIHJlc29sdmUoZS50YXJnZXQuZmlsZXMpOwogICAgfSk7CiAgfSk7CgogIGNvbnN0IGNhbmNlbCA9IGRvY3VtZW50LmNyZWF0ZUVsZW1lbnQoJ2J1dHRvbicpOwogIGlucHV0RWxlbWVudC5wYXJlbnRFbGVtZW50LmFwcGVuZENoaWxkKGNhbmNlbCk7CiAgY2FuY2VsLnRleHRDb250ZW50ID0gJ0NhbmNlbCB1cGxvYWQnOwogIGNvbnN0IGNhbmNlbFByb21pc2UgPSBuZXcgUHJvbWlzZSgocmVzb2x2ZSkgPT4gewogICAgY2FuY2VsLm9uY2xpY2sgPSAoKSA9PiB7CiAgICAgIHJlc29sdmUobnVsbCk7CiAgICB9OwogIH0pOwoKICAvLyBXYWl0IGZvciB0aGUgdXNlciB0byBwaWNrIHRoZSBmaWxlcy4KICBjb25zdCBmaWxlcyA9IHlpZWxkIHsKICAgIHByb21pc2U6IFByb21pc2UucmFjZShbcGlja2VkUHJvbWlzZSwgY2FuY2VsUHJvbWlzZV0pLAogICAgcmVzcG9uc2U6IHsKICAgICAgYWN0aW9uOiAnc3RhcnRpbmcnLAogICAgfQogIH07CgogIGNhbmNlbC5yZW1vdmUoKTsKCiAgLy8gRGlzYWJsZSB0aGUgaW5wdXQgZWxlbWVudCBzaW5jZSBmdXJ0aGVyIHBpY2tzIGFyZSBub3QgYWxsb3dlZC4KICBpbnB1dEVsZW1lbnQuZGlzYWJsZWQgPSB0cnVlOwoKICBpZiAoIWZpbGVzKSB7CiAgICByZXR1cm4gewogICAgICByZXNwb25zZTogewogICAgICAgIGFjdGlvbjogJ2NvbXBsZXRlJywKICAgICAgfQogICAgfTsKICB9CgogIGZvciAoY29uc3QgZmlsZSBvZiBmaWxlcykgewogICAgY29uc3QgbGkgPSBkb2N1bWVudC5jcmVhdGVFbGVtZW50KCdsaScpOwogICAgbGkuYXBwZW5kKHNwYW4oZmlsZS5uYW1lLCB7Zm9udFdlaWdodDogJ2JvbGQnfSkpOwogICAgbGkuYXBwZW5kKHNwYW4oCiAgICAgICAgYCgke2ZpbGUudHlwZSB8fCAnbi9hJ30pIC0gJHtmaWxlLnNpemV9IGJ5dGVzLCBgICsKICAgICAgICBgbGFzdCBtb2RpZmllZDogJHsKICAgICAgICAgICAgZmlsZS5sYXN0TW9kaWZpZWREYXRlID8gZmlsZS5sYXN0TW9kaWZpZWREYXRlLnRvTG9jYWxlRGF0ZVN0cmluZygpIDoKICAgICAgICAgICAgICAgICAgICAgICAgICAgICAgICAgICAgJ24vYSd9IC0gYCkpOwogICAgY29uc3QgcGVyY2VudCA9IHNwYW4oJzAlIGRvbmUnKTsKICAgIGxpLmFwcGVuZENoaWxkKHBlcmNlbnQpOwoKICAgIG91dHB1dEVsZW1lbnQuYXBwZW5kQ2hpbGQobGkpOwoKICAgIGNvbnN0IGZpbGVEYXRhUHJvbWlzZSA9IG5ldyBQcm9taXNlKChyZXNvbHZlKSA9PiB7CiAgICAgIGNvbnN0IHJlYWRlciA9IG5ldyBGaWxlUmVhZGVyKCk7CiAgICAgIHJlYWRlci5vbmxvYWQgPSAoZSkgPT4gewogICAgICAgIHJlc29sdmUoZS50YXJnZXQucmVzdWx0KTsKICAgICAgfTsKICAgICAgcmVhZGVyLnJlYWRBc0FycmF5QnVmZmVyKGZpbGUpOwogICAgfSk7CiAgICAvLyBXYWl0IGZvciB0aGUgZGF0YSB0byBiZSByZWFkeS4KICAgIGxldCBmaWxlRGF0YSA9IHlpZWxkIHsKICAgICAgcHJvbWlzZTogZmlsZURhdGFQcm9taXNlLAogICAgICByZXNwb25zZTogewogICAgICAgIGFjdGlvbjogJ2NvbnRpbnVlJywKICAgICAgfQogICAgfTsKCiAgICAvLyBVc2UgYSBjaHVua2VkIHNlbmRpbmcgdG8gYXZvaWQgbWVzc2FnZSBzaXplIGxpbWl0cy4gU2VlIGIvNjIxMTU2NjAuCiAgICBsZXQgcG9zaXRpb24gPSAwOwogICAgZG8gewogICAgICBjb25zdCBsZW5ndGggPSBNYXRoLm1pbihmaWxlRGF0YS5ieXRlTGVuZ3RoIC0gcG9zaXRpb24sIE1BWF9QQVlMT0FEX1NJWkUpOwogICAgICBjb25zdCBjaHVuayA9IG5ldyBVaW50OEFycmF5KGZpbGVEYXRhLCBwb3NpdGlvbiwgbGVuZ3RoKTsKICAgICAgcG9zaXRpb24gKz0gbGVuZ3RoOwoKICAgICAgY29uc3QgYmFzZTY0ID0gYnRvYShTdHJpbmcuZnJvbUNoYXJDb2RlLmFwcGx5KG51bGwsIGNodW5rKSk7CiAgICAgIHlpZWxkIHsKICAgICAgICByZXNwb25zZTogewogICAgICAgICAgYWN0aW9uOiAnYXBwZW5kJywKICAgICAgICAgIGZpbGU6IGZpbGUubmFtZSwKICAgICAgICAgIGRhdGE6IGJhc2U2NCwKICAgICAgICB9LAogICAgICB9OwoKICAgICAgbGV0IHBlcmNlbnREb25lID0gZmlsZURhdGEuYnl0ZUxlbmd0aCA9PT0gMCA/CiAgICAgICAgICAxMDAgOgogICAgICAgICAgTWF0aC5yb3VuZCgocG9zaXRpb24gLyBmaWxlRGF0YS5ieXRlTGVuZ3RoKSAqIDEwMCk7CiAgICAgIHBlcmNlbnQudGV4dENvbnRlbnQgPSBgJHtwZXJjZW50RG9uZX0lIGRvbmVgOwoKICAgIH0gd2hpbGUgKHBvc2l0aW9uIDwgZmlsZURhdGEuYnl0ZUxlbmd0aCk7CiAgfQoKICAvLyBBbGwgZG9uZS4KICB5aWVsZCB7CiAgICByZXNwb25zZTogewogICAgICBhY3Rpb246ICdjb21wbGV0ZScsCiAgICB9CiAgfTsKfQoKc2NvcGUuZ29vZ2xlID0gc2NvcGUuZ29vZ2xlIHx8IHt9OwpzY29wZS5nb29nbGUuY29sYWIgPSBzY29wZS5nb29nbGUuY29sYWIgfHwge307CnNjb3BlLmdvb2dsZS5jb2xhYi5fZmlsZXMgPSB7CiAgX3VwbG9hZEZpbGVzLAogIF91cGxvYWRGaWxlc0NvbnRpbnVlLAp9Owp9KShzZWxmKTsK",
              "ok": true,
              "headers": [
                [
                  "content-type",
                  "application/javascript"
                ]
              ],
              "status": 200,
              "status_text": ""
            }
          },
          "base_uri": "https://localhost:8080/",
          "height": 74
        },
        "id": "g_-VuQijfyFS",
        "outputId": "fa3b0147-4b8d-4e39-8695-76985de16dc5"
      },
      "source": [
        "from google.colab import files\n",
        "uploaded = files.upload()\n",
        "import io\n",
        "df = pd.read_csv(io.BytesIO(uploaded['diabetes.csv']))\n"
      ],
      "execution_count": 120,
      "outputs": [
        {
          "output_type": "display_data",
          "data": {
            "text/html": [
              "\n",
              "     <input type=\"file\" id=\"files-a14bf54c-0378-407c-aa2e-9fbc47faaf70\" name=\"files[]\" multiple disabled\n",
              "        style=\"border:none\" />\n",
              "     <output id=\"result-a14bf54c-0378-407c-aa2e-9fbc47faaf70\">\n",
              "      Upload widget is only available when the cell has been executed in the\n",
              "      current browser session. Please rerun this cell to enable.\n",
              "      </output>\n",
              "      <script src=\"/nbextensions/google.colab/files.js\"></script> "
            ],
            "text/plain": [
              "<IPython.core.display.HTML object>"
            ]
          },
          "metadata": {}
        },
        {
          "output_type": "stream",
          "name": "stdout",
          "text": [
            "Saving diabetes.csv to diabetes (1).csv\n"
          ]
        }
      ]
    },
    {
      "cell_type": "markdown",
      "metadata": {
        "id": "Ux9k0_Lm_4nf"
      },
      "source": [
        "# Dataset Preparation :"
      ]
    },
    {
      "cell_type": "code",
      "metadata": {
        "colab": {
          "base_uri": "https://localhost:8080/",
          "height": 206
        },
        "id": "0Pq-WY-UfyFS",
        "outputId": "683aec07-74de-4848-99e0-df484ab9bc28"
      },
      "source": [
        "df.head()"
      ],
      "execution_count": 122,
      "outputs": [
        {
          "output_type": "execute_result",
          "data": {
            "text/html": [
              "<div>\n",
              "<style scoped>\n",
              "    .dataframe tbody tr th:only-of-type {\n",
              "        vertical-align: middle;\n",
              "    }\n",
              "\n",
              "    .dataframe tbody tr th {\n",
              "        vertical-align: top;\n",
              "    }\n",
              "\n",
              "    .dataframe thead th {\n",
              "        text-align: right;\n",
              "    }\n",
              "</style>\n",
              "<table border=\"1\" class=\"dataframe\">\n",
              "  <thead>\n",
              "    <tr style=\"text-align: right;\">\n",
              "      <th></th>\n",
              "      <th>Pregnancies</th>\n",
              "      <th>Glucose</th>\n",
              "      <th>BloodPressure</th>\n",
              "      <th>SkinThickness</th>\n",
              "      <th>Insulin</th>\n",
              "      <th>BMI</th>\n",
              "      <th>DiabetesPedigreeFunction</th>\n",
              "      <th>Age</th>\n",
              "      <th>Outcome</th>\n",
              "    </tr>\n",
              "  </thead>\n",
              "  <tbody>\n",
              "    <tr>\n",
              "      <th>0</th>\n",
              "      <td>6</td>\n",
              "      <td>148</td>\n",
              "      <td>72</td>\n",
              "      <td>35</td>\n",
              "      <td>0</td>\n",
              "      <td>33.6</td>\n",
              "      <td>0.627</td>\n",
              "      <td>50</td>\n",
              "      <td>1</td>\n",
              "    </tr>\n",
              "    <tr>\n",
              "      <th>1</th>\n",
              "      <td>1</td>\n",
              "      <td>85</td>\n",
              "      <td>66</td>\n",
              "      <td>29</td>\n",
              "      <td>0</td>\n",
              "      <td>26.6</td>\n",
              "      <td>0.351</td>\n",
              "      <td>31</td>\n",
              "      <td>0</td>\n",
              "    </tr>\n",
              "    <tr>\n",
              "      <th>2</th>\n",
              "      <td>8</td>\n",
              "      <td>183</td>\n",
              "      <td>64</td>\n",
              "      <td>0</td>\n",
              "      <td>0</td>\n",
              "      <td>23.3</td>\n",
              "      <td>0.672</td>\n",
              "      <td>32</td>\n",
              "      <td>1</td>\n",
              "    </tr>\n",
              "    <tr>\n",
              "      <th>3</th>\n",
              "      <td>1</td>\n",
              "      <td>89</td>\n",
              "      <td>66</td>\n",
              "      <td>23</td>\n",
              "      <td>94</td>\n",
              "      <td>28.1</td>\n",
              "      <td>0.167</td>\n",
              "      <td>21</td>\n",
              "      <td>0</td>\n",
              "    </tr>\n",
              "    <tr>\n",
              "      <th>4</th>\n",
              "      <td>0</td>\n",
              "      <td>137</td>\n",
              "      <td>40</td>\n",
              "      <td>35</td>\n",
              "      <td>168</td>\n",
              "      <td>43.1</td>\n",
              "      <td>2.288</td>\n",
              "      <td>33</td>\n",
              "      <td>1</td>\n",
              "    </tr>\n",
              "  </tbody>\n",
              "</table>\n",
              "</div>"
            ],
            "text/plain": [
              "   Pregnancies  Glucose  BloodPressure  ...  DiabetesPedigreeFunction  Age  Outcome\n",
              "0            6      148             72  ...                     0.627   50        1\n",
              "1            1       85             66  ...                     0.351   31        0\n",
              "2            8      183             64  ...                     0.672   32        1\n",
              "3            1       89             66  ...                     0.167   21        0\n",
              "4            0      137             40  ...                     2.288   33        1\n",
              "\n",
              "[5 rows x 9 columns]"
            ]
          },
          "metadata": {},
          "execution_count": 122
        }
      ]
    },
    {
      "cell_type": "code",
      "metadata": {
        "colab": {
          "base_uri": "https://localhost:8080/"
        },
        "id": "8VHm9KYBfyFT",
        "outputId": "34073fae-e559-4da6-b342-567434514434"
      },
      "source": [
        "df.info()"
      ],
      "execution_count": 123,
      "outputs": [
        {
          "output_type": "stream",
          "name": "stdout",
          "text": [
            "<class 'pandas.core.frame.DataFrame'>\n",
            "RangeIndex: 768 entries, 0 to 767\n",
            "Data columns (total 9 columns):\n",
            " #   Column                    Non-Null Count  Dtype  \n",
            "---  ------                    --------------  -----  \n",
            " 0   Pregnancies               768 non-null    int64  \n",
            " 1   Glucose                   768 non-null    int64  \n",
            " 2   BloodPressure             768 non-null    int64  \n",
            " 3   SkinThickness             768 non-null    int64  \n",
            " 4   Insulin                   768 non-null    int64  \n",
            " 5   BMI                       768 non-null    float64\n",
            " 6   DiabetesPedigreeFunction  768 non-null    float64\n",
            " 7   Age                       768 non-null    int64  \n",
            " 8   Outcome                   768 non-null    int64  \n",
            "dtypes: float64(2), int64(7)\n",
            "memory usage: 54.1 KB\n"
          ]
        }
      ]
    },
    {
      "cell_type": "code",
      "metadata": {
        "colab": {
          "base_uri": "https://localhost:8080/"
        },
        "id": "M3dv0M4OfyFT",
        "outputId": "c3ed4fc2-429e-4b04-c41a-edbb348c348f"
      },
      "source": [
        "df.isnull().sum()"
      ],
      "execution_count": 124,
      "outputs": [
        {
          "output_type": "execute_result",
          "data": {
            "text/plain": [
              "Pregnancies                 0\n",
              "Glucose                     0\n",
              "BloodPressure               0\n",
              "SkinThickness               0\n",
              "Insulin                     0\n",
              "BMI                         0\n",
              "DiabetesPedigreeFunction    0\n",
              "Age                         0\n",
              "Outcome                     0\n",
              "dtype: int64"
            ]
          },
          "metadata": {},
          "execution_count": 124
        }
      ]
    },
    {
      "cell_type": "code",
      "metadata": {
        "id": "wDkIML_GfyFU"
      },
      "source": [
        "X=df.iloc[:,0:7]\n",
        "Y=df.iloc[:,8]"
      ],
      "execution_count": 125,
      "outputs": []
    },
    {
      "cell_type": "code",
      "metadata": {
        "colab": {
          "base_uri": "https://localhost:8080/",
          "height": 206
        },
        "id": "6_90NLHMfyFU",
        "outputId": "75201615-6a1c-470b-f7de-71da4e6ba7ae"
      },
      "source": [
        "X.head()"
      ],
      "execution_count": 126,
      "outputs": [
        {
          "output_type": "execute_result",
          "data": {
            "text/html": [
              "<div>\n",
              "<style scoped>\n",
              "    .dataframe tbody tr th:only-of-type {\n",
              "        vertical-align: middle;\n",
              "    }\n",
              "\n",
              "    .dataframe tbody tr th {\n",
              "        vertical-align: top;\n",
              "    }\n",
              "\n",
              "    .dataframe thead th {\n",
              "        text-align: right;\n",
              "    }\n",
              "</style>\n",
              "<table border=\"1\" class=\"dataframe\">\n",
              "  <thead>\n",
              "    <tr style=\"text-align: right;\">\n",
              "      <th></th>\n",
              "      <th>Pregnancies</th>\n",
              "      <th>Glucose</th>\n",
              "      <th>BloodPressure</th>\n",
              "      <th>SkinThickness</th>\n",
              "      <th>Insulin</th>\n",
              "      <th>BMI</th>\n",
              "      <th>DiabetesPedigreeFunction</th>\n",
              "    </tr>\n",
              "  </thead>\n",
              "  <tbody>\n",
              "    <tr>\n",
              "      <th>0</th>\n",
              "      <td>6</td>\n",
              "      <td>148</td>\n",
              "      <td>72</td>\n",
              "      <td>35</td>\n",
              "      <td>0</td>\n",
              "      <td>33.6</td>\n",
              "      <td>0.627</td>\n",
              "    </tr>\n",
              "    <tr>\n",
              "      <th>1</th>\n",
              "      <td>1</td>\n",
              "      <td>85</td>\n",
              "      <td>66</td>\n",
              "      <td>29</td>\n",
              "      <td>0</td>\n",
              "      <td>26.6</td>\n",
              "      <td>0.351</td>\n",
              "    </tr>\n",
              "    <tr>\n",
              "      <th>2</th>\n",
              "      <td>8</td>\n",
              "      <td>183</td>\n",
              "      <td>64</td>\n",
              "      <td>0</td>\n",
              "      <td>0</td>\n",
              "      <td>23.3</td>\n",
              "      <td>0.672</td>\n",
              "    </tr>\n",
              "    <tr>\n",
              "      <th>3</th>\n",
              "      <td>1</td>\n",
              "      <td>89</td>\n",
              "      <td>66</td>\n",
              "      <td>23</td>\n",
              "      <td>94</td>\n",
              "      <td>28.1</td>\n",
              "      <td>0.167</td>\n",
              "    </tr>\n",
              "    <tr>\n",
              "      <th>4</th>\n",
              "      <td>0</td>\n",
              "      <td>137</td>\n",
              "      <td>40</td>\n",
              "      <td>35</td>\n",
              "      <td>168</td>\n",
              "      <td>43.1</td>\n",
              "      <td>2.288</td>\n",
              "    </tr>\n",
              "  </tbody>\n",
              "</table>\n",
              "</div>"
            ],
            "text/plain": [
              "   Pregnancies  Glucose  BloodPressure  ...  Insulin   BMI  DiabetesPedigreeFunction\n",
              "0            6      148             72  ...        0  33.6                     0.627\n",
              "1            1       85             66  ...        0  26.6                     0.351\n",
              "2            8      183             64  ...        0  23.3                     0.672\n",
              "3            1       89             66  ...       94  28.1                     0.167\n",
              "4            0      137             40  ...      168  43.1                     2.288\n",
              "\n",
              "[5 rows x 7 columns]"
            ]
          },
          "metadata": {},
          "execution_count": 126
        }
      ]
    },
    {
      "cell_type": "code",
      "metadata": {
        "colab": {
          "base_uri": "https://localhost:8080/"
        },
        "id": "FCpOW-5ofyFU",
        "outputId": "8bf4775d-c2fa-4e97-94ae-18845f938c2c"
      },
      "source": [
        "Y.head()"
      ],
      "execution_count": 127,
      "outputs": [
        {
          "output_type": "execute_result",
          "data": {
            "text/plain": [
              "0    1\n",
              "1    0\n",
              "2    1\n",
              "3    0\n",
              "4    1\n",
              "Name: Outcome, dtype: int64"
            ]
          },
          "metadata": {},
          "execution_count": 127
        }
      ]
    },
    {
      "cell_type": "markdown",
      "metadata": {
        "id": "jKu-8KC9AELm"
      },
      "source": [
        "# Implementing the Calulate function to evaluate all parameters :"
      ]
    },
    {
      "cell_type": "code",
      "metadata": {
        "id": "f-UCwKOmfyFX"
      },
      "source": [
        "def calculate(confusion_matrix):\n",
        "    l1={}\n",
        "    True_positive=confusion_matrix[0,0]\n",
        "    False_Positive=confusion_matrix[0,1]\n",
        "    False_Negative=confusion_matrix[1,0]\n",
        "    True_Negative=confusion_matrix[1,1]\n",
        "    TP=True_positive\n",
        "    FP=False_Positive\n",
        "    FN=False_Negative\n",
        "    TN=True_Negative\n",
        "    True_positive_rate= TP/(TP + FN)\n",
        "    True_negative_rate= TN/(TN + FP)\n",
        "    False_positive_rate= FP/(TN + FP)\n",
        "    False_negative_rate= FN/(TP + FN)\n",
        "    Recall= TP/(TP + FN)\n",
        "    Precision= TP/(TP + FP)\n",
        "    F1_measure= (2 * TP)/(2 * TP + FP + FN)\n",
        "    Accuracy=(TP + TN)/(TP + FP + FN + TN)\n",
        "    Error_rate= (FP + FN)/(TP + FP + FN + TN)\n",
        "    Balanced_Accuracy= 1/2 *((TP/(TP+FN) + (TN/(TN+FP))))\n",
        "    True_Skill_Statistics = ((TP/(TP+FN))-(FP/(FP+TN)))\n",
        "    Heidke_Skill_Score=2*((TP * TN) - (FP * FN))/((TP + FN)*(FN+TN)+(TP+FP)*(FP+TN))\n",
        "    l1 = {'False negative':FN, 'False positive': FP, 'True positive': TP, 'True negative': TN,\n",
        "              'True positive rate': True_positive_rate, 'True negative rate': True_negative_rate, 'False positive rate': False_positive_rate, 'False negative rate': False_negative_rate, \n",
        "              'Recall': Recall, 'Precision': Precision, 'F1 measure': F1_measure, 'Error rate': Error_rate,'Accuracy': Accuracy,'Balanced Accuracy':Balanced_Accuracy,'True Skill Statistics':True_Skill_Statistics,'Heidke Skill Score':Heidke_Skill_Score}\n",
        "    result = pd.DataFrame([l1])\n",
        "    return result\n",
        "              \n",
        "\n",
        "\n"
      ],
      "execution_count": 86,
      "outputs": []
    },
    {
      "cell_type": "markdown",
      "metadata": {
        "id": "SXOajsxgAijf"
      },
      "source": [
        "# Implementing Naive Bayes :"
      ]
    },
    {
      "cell_type": "code",
      "metadata": {
        "id": "YfVoiWTNfyFV",
        "colab": {
          "base_uri": "https://localhost:8080/",
          "height": 1000
        },
        "outputId": "07360277-28f4-402e-81f5-720c6e509d80"
      },
      "source": [
        "from sklearn.naive_bayes import GaussianNB\n",
        "total_score = 0.0\n",
        "for i in range(1,11):\n",
        "    X_train, X_test, y_train, y_test = train_test_split(X,Y,test_size=0.2)\n",
        "    model1 = GaussianNB()\n",
        "    model1.fit(X_train,y_train)\n",
        "    prediction_value=model1.predict(X_test)\n",
        "    confusion_matrix_naive=confusion_matrix(y_test, prediction_value)\n",
        "    print(\"iteration :\", i)\n",
        "    metrics.plot_roc_curve(model1, X_test, y_test)\n",
        "    plt.show()\n",
        "    plt.show()\n",
        "    final_value=calculate(confusion_matrix_naive)\n",
        "    display(final_value)\n",
        "    total_score = total_score + accuracy_score(prediction_value,y_test)\n",
        "print(\" Mean Accuracy of Naive Bayes :\", (total_score/10)*100)"
      ],
      "execution_count": 128,
      "outputs": [
        {
          "output_type": "stream",
          "name": "stdout",
          "text": [
            "iteration : 1\n"
          ]
        },
        {
          "output_type": "display_data",
          "data": {
            "image/png": "[encoded data removed]",
            "text/plain": [
              "<Figure size 432x288 with 1 Axes>"
            ]
          },
          "metadata": {
            "needs_background": "light"
          }
        },
        {
          "output_type": "display_data",
          "data": {
            "text/html": [
              "<div>\n",
              "<style scoped>\n",
              "    .dataframe tbody tr th:only-of-type {\n",
              "        vertical-align: middle;\n",
              "    }\n",
              "\n",
              "    .dataframe tbody tr th {\n",
              "        vertical-align: top;\n",
              "    }\n",
              "\n",
              "    .dataframe thead th {\n",
              "        text-align: right;\n",
              "    }\n",
              "</style>\n",
              "<table border=\"1\" class=\"dataframe\">\n",
              "  <thead>\n",
              "    <tr style=\"text-align: right;\">\n",
              "      <th></th>\n",
              "      <th>False negative</th>\n",
              "      <th>False positive</th>\n",
              "      <th>True positive</th>\n",
              "      <th>True negative</th>\n",
              "      <th>True positive rate</th>\n",
              "      <th>True negative rate</th>\n",
              "      <th>False positive rate</th>\n",
              "      <th>False negative rate</th>\n",
              "      <th>Recall</th>\n",
              "      <th>Precision</th>\n",
              "      <th>F1 measure</th>\n",
              "      <th>Error rate</th>\n",
              "      <th>Accuracy</th>\n",
              "      <th>Balanced Accuracy</th>\n",
              "      <th>True Skill Statistics</th>\n",
              "      <th>Heidke Skill Score</th>\n",
              "    </tr>\n",
              "  </thead>\n",
              "  <tbody>\n",
              "    <tr>\n",
              "      <th>0</th>\n",
              "      <td>20</td>\n",
              "      <td>18</td>\n",
              "      <td>84</td>\n",
              "      <td>32</td>\n",
              "      <td>0.807692</td>\n",
              "      <td>0.64</td>\n",
              "      <td>0.36</td>\n",
              "      <td>0.192308</td>\n",
              "      <td>0.807692</td>\n",
              "      <td>0.823529</td>\n",
              "      <td>0.815534</td>\n",
              "      <td>0.246753</td>\n",
              "      <td>0.753247</td>\n",
              "      <td>0.723846</td>\n",
              "      <td>0.447692</td>\n",
              "      <td>0.443091</td>\n",
              "    </tr>\n",
              "  </tbody>\n",
              "</table>\n",
              "</div>"
            ],
            "text/plain": [
              "   False negative  False positive  ...  True Skill Statistics  Heidke Skill Score\n",
              "0              20              18  ...               0.447692            0.443091\n",
              "\n",
              "[1 rows x 16 columns]"
            ]
          },
          "metadata": {}
        },
        {
          "output_type": "stream",
          "name": "stdout",
          "text": [
            "iteration : 2\n"
          ]
        },
        {
          "output_type": "display_data",
          "data": {
            "image/png": "[encoded data removed]",
            "text/plain": [
              "<Figure size 432x288 with 1 Axes>"
            ]
          },
          "metadata": {
            "needs_background": "light"
          }
        },
        {
          "output_type": "display_data",
          "data": {
            "text/html": [
              "<div>\n",
              "<style scoped>\n",
              "    .dataframe tbody tr th:only-of-type {\n",
              "        vertical-align: middle;\n",
              "    }\n",
              "\n",
              "    .dataframe tbody tr th {\n",
              "        vertical-align: top;\n",
              "    }\n",
              "\n",
              "    .dataframe thead th {\n",
              "        text-align: right;\n",
              "    }\n",
              "</style>\n",
              "<table border=\"1\" class=\"dataframe\">\n",
              "  <thead>\n",
              "    <tr style=\"text-align: right;\">\n",
              "      <th></th>\n",
              "      <th>False negative</th>\n",
              "      <th>False positive</th>\n",
              "      <th>True positive</th>\n",
              "      <th>True negative</th>\n",
              "      <th>True positive rate</th>\n",
              "      <th>True negative rate</th>\n",
              "      <th>False positive rate</th>\n",
              "      <th>False negative rate</th>\n",
              "      <th>Recall</th>\n",
              "      <th>Precision</th>\n",
              "      <th>F1 measure</th>\n",
              "      <th>Error rate</th>\n",
              "      <th>Accuracy</th>\n",
              "      <th>Balanced Accuracy</th>\n",
              "      <th>True Skill Statistics</th>\n",
              "      <th>Heidke Skill Score</th>\n",
              "    </tr>\n",
              "  </thead>\n",
              "  <tbody>\n",
              "    <tr>\n",
              "      <th>0</th>\n",
              "      <td>21</td>\n",
              "      <td>8</td>\n",
              "      <td>100</td>\n",
              "      <td>25</td>\n",
              "      <td>0.826446</td>\n",
              "      <td>0.757576</td>\n",
              "      <td>0.242424</td>\n",
              "      <td>0.173554</td>\n",
              "      <td>0.826446</td>\n",
              "      <td>0.925926</td>\n",
              "      <td>0.873362</td>\n",
              "      <td>0.188312</td>\n",
              "      <td>0.811688</td>\n",
              "      <td>0.792011</td>\n",
              "      <td>0.584022</td>\n",
              "      <td>0.510843</td>\n",
              "    </tr>\n",
              "  </tbody>\n",
              "</table>\n",
              "</div>"
            ],
            "text/plain": [
              "   False negative  False positive  ...  True Skill Statistics  Heidke Skill Score\n",
              "0              21               8  ...               0.584022            0.510843\n",
              "\n",
              "[1 rows x 16 columns]"
            ]
          },
          "metadata": {}
        },
        {
          "output_type": "stream",
          "name": "stdout",
          "text": [
            "iteration : 3\n"
          ]
        },
        {
          "output_type": "display_data",
          "data": {
            "image/png": "[encoded data removed]",
            "text/plain": [
              "<Figure size 432x288 with 1 Axes>"
            ]
          },
          "metadata": {
            "needs_background": "light"
          }
        },
        {
          "output_type": "display_data",
          "data": {
            "text/html": [
              "<div>\n",
              "<style scoped>\n",
              "    .dataframe tbody tr th:only-of-type {\n",
              "        vertical-align: middle;\n",
              "    }\n",
              "\n",
              "    .dataframe tbody tr th {\n",
              "        vertical-align: top;\n",
              "    }\n",
              "\n",
              "    .dataframe thead th {\n",
              "        text-align: right;\n",
              "    }\n",
              "</style>\n",
              "<table border=\"1\" class=\"dataframe\">\n",
              "  <thead>\n",
              "    <tr style=\"text-align: right;\">\n",
              "      <th></th>\n",
              "      <th>False negative</th>\n",
              "      <th>False positive</th>\n",
              "      <th>True positive</th>\n",
              "      <th>True negative</th>\n",
              "      <th>True positive rate</th>\n",
              "      <th>True negative rate</th>\n",
              "      <th>False positive rate</th>\n",
              "      <th>False negative rate</th>\n",
              "      <th>Recall</th>\n",
              "      <th>Precision</th>\n",
              "      <th>F1 measure</th>\n",
              "      <th>Error rate</th>\n",
              "      <th>Accuracy</th>\n",
              "      <th>Balanced Accuracy</th>\n",
              "      <th>True Skill Statistics</th>\n",
              "      <th>Heidke Skill Score</th>\n",
              "    </tr>\n",
              "  </thead>\n",
              "  <tbody>\n",
              "    <tr>\n",
              "      <th>0</th>\n",
              "      <td>25</td>\n",
              "      <td>19</td>\n",
              "      <td>76</td>\n",
              "      <td>34</td>\n",
              "      <td>0.752475</td>\n",
              "      <td>0.641509</td>\n",
              "      <td>0.358491</td>\n",
              "      <td>0.247525</td>\n",
              "      <td>0.752475</td>\n",
              "      <td>0.8</td>\n",
              "      <td>0.77551</td>\n",
              "      <td>0.285714</td>\n",
              "      <td>0.714286</td>\n",
              "      <td>0.696992</td>\n",
              "      <td>0.393985</td>\n",
              "      <td>0.383664</td>\n",
              "    </tr>\n",
              "  </tbody>\n",
              "</table>\n",
              "</div>"
            ],
            "text/plain": [
              "   False negative  False positive  ...  True Skill Statistics  Heidke Skill Score\n",
              "0              25              19  ...               0.393985            0.383664\n",
              "\n",
              "[1 rows x 16 columns]"
            ]
          },
          "metadata": {}
        },
        {
          "output_type": "stream",
          "name": "stdout",
          "text": [
            "iteration : 4\n"
          ]
        },
        {
          "output_type": "display_data",
          "data": {
            "image/png": "[encoded data removed]",
            "text/plain": [
              "<Figure size 432x288 with 1 Axes>"
            ]
          },
          "metadata": {
            "needs_background": "light"
          }
        },
        {
          "output_type": "display_data",
          "data": {
            "text/html": [
              "<div>\n",
              "<style scoped>\n",
              "    .dataframe tbody tr th:only-of-type {\n",
              "        vertical-align: middle;\n",
              "    }\n",
              "\n",
              "    .dataframe tbody tr th {\n",
              "        vertical-align: top;\n",
              "    }\n",
              "\n",
              "    .dataframe thead th {\n",
              "        text-align: right;\n",
              "    }\n",
              "</style>\n",
              "<table border=\"1\" class=\"dataframe\">\n",
              "  <thead>\n",
              "    <tr style=\"text-align: right;\">\n",
              "      <th></th>\n",
              "      <th>False negative</th>\n",
              "      <th>False positive</th>\n",
              "      <th>True positive</th>\n",
              "      <th>True negative</th>\n",
              "      <th>True positive rate</th>\n",
              "      <th>True negative rate</th>\n",
              "      <th>False positive rate</th>\n",
              "      <th>False negative rate</th>\n",
              "      <th>Recall</th>\n",
              "      <th>Precision</th>\n",
              "      <th>F1 measure</th>\n",
              "      <th>Error rate</th>\n",
              "      <th>Accuracy</th>\n",
              "      <th>Balanced Accuracy</th>\n",
              "      <th>True Skill Statistics</th>\n",
              "      <th>Heidke Skill Score</th>\n",
              "    </tr>\n",
              "  </thead>\n",
              "  <tbody>\n",
              "    <tr>\n",
              "      <th>0</th>\n",
              "      <td>14</td>\n",
              "      <td>15</td>\n",
              "      <td>87</td>\n",
              "      <td>38</td>\n",
              "      <td>0.861386</td>\n",
              "      <td>0.716981</td>\n",
              "      <td>0.283019</td>\n",
              "      <td>0.138614</td>\n",
              "      <td>0.861386</td>\n",
              "      <td>0.852941</td>\n",
              "      <td>0.857143</td>\n",
              "      <td>0.188312</td>\n",
              "      <td>0.811688</td>\n",
              "      <td>0.789184</td>\n",
              "      <td>0.578367</td>\n",
              "      <td>0.580972</td>\n",
              "    </tr>\n",
              "  </tbody>\n",
              "</table>\n",
              "</div>"
            ],
            "text/plain": [
              "   False negative  False positive  ...  True Skill Statistics  Heidke Skill Score\n",
              "0              14              15  ...               0.578367            0.580972\n",
              "\n",
              "[1 rows x 16 columns]"
            ]
          },
          "metadata": {}
        },
        {
          "output_type": "stream",
          "name": "stdout",
          "text": [
            "iteration : 5\n"
          ]
        },
        {
          "output_type": "display_data",
          "data": {
            "image/png": "[encoded data removed]",
            "text/plain": [
              "<Figure size 432x288 with 1 Axes>"
            ]
          },
          "metadata": {
            "needs_background": "light"
          }
        },
        {
          "output_type": "display_data",
          "data": {
            "text/html": [
              "<div>\n",
              "<style scoped>\n",
              "    .dataframe tbody tr th:only-of-type {\n",
              "        vertical-align: middle;\n",
              "    }\n",
              "\n",
              "    .dataframe tbody tr th {\n",
              "        vertical-align: top;\n",
              "    }\n",
              "\n",
              "    .dataframe thead th {\n",
              "        text-align: right;\n",
              "    }\n",
              "</style>\n",
              "<table border=\"1\" class=\"dataframe\">\n",
              "  <thead>\n",
              "    <tr style=\"text-align: right;\">\n",
              "      <th></th>\n",
              "      <th>False negative</th>\n",
              "      <th>False positive</th>\n",
              "      <th>True positive</th>\n",
              "      <th>True negative</th>\n",
              "      <th>True positive rate</th>\n",
              "      <th>True negative rate</th>\n",
              "      <th>False positive rate</th>\n",
              "      <th>False negative rate</th>\n",
              "      <th>Recall</th>\n",
              "      <th>Precision</th>\n",
              "      <th>F1 measure</th>\n",
              "      <th>Error rate</th>\n",
              "      <th>Accuracy</th>\n",
              "      <th>Balanced Accuracy</th>\n",
              "      <th>True Skill Statistics</th>\n",
              "      <th>Heidke Skill Score</th>\n",
              "    </tr>\n",
              "  </thead>\n",
              "  <tbody>\n",
              "    <tr>\n",
              "      <th>0</th>\n",
              "      <td>31</td>\n",
              "      <td>13</td>\n",
              "      <td>85</td>\n",
              "      <td>25</td>\n",
              "      <td>0.732759</td>\n",
              "      <td>0.657895</td>\n",
              "      <td>0.342105</td>\n",
              "      <td>0.267241</td>\n",
              "      <td>0.732759</td>\n",
              "      <td>0.867347</td>\n",
              "      <td>0.794393</td>\n",
              "      <td>0.285714</td>\n",
              "      <td>0.714286</td>\n",
              "      <td>0.695327</td>\n",
              "      <td>0.390653</td>\n",
              "      <td>0.336986</td>\n",
              "    </tr>\n",
              "  </tbody>\n",
              "</table>\n",
              "</div>"
            ],
            "text/plain": [
              "   False negative  False positive  ...  True Skill Statistics  Heidke Skill Score\n",
              "0              31              13  ...               0.390653            0.336986\n",
              "\n",
              "[1 rows x 16 columns]"
            ]
          },
          "metadata": {}
        },
        {
          "output_type": "stream",
          "name": "stdout",
          "text": [
            "iteration : 6\n"
          ]
        },
        {
          "output_type": "display_data",
          "data": {
            "image/png": "[encoded data removed]",
            "text/plain": [
              "<Figure size 432x288 with 1 Axes>"
            ]
          },
          "metadata": {
            "needs_background": "light"
          }
        },
        {
          "output_type": "display_data",
          "data": {
            "text/html": [
              "<div>\n",
              "<style scoped>\n",
              "    .dataframe tbody tr th:only-of-type {\n",
              "        vertical-align: middle;\n",
              "    }\n",
              "\n",
              "    .dataframe tbody tr th {\n",
              "        vertical-align: top;\n",
              "    }\n",
              "\n",
              "    .dataframe thead th {\n",
              "        text-align: right;\n",
              "    }\n",
              "</style>\n",
              "<table border=\"1\" class=\"dataframe\">\n",
              "  <thead>\n",
              "    <tr style=\"text-align: right;\">\n",
              "      <th></th>\n",
              "      <th>False negative</th>\n",
              "      <th>False positive</th>\n",
              "      <th>True positive</th>\n",
              "      <th>True negative</th>\n",
              "      <th>True positive rate</th>\n",
              "      <th>True negative rate</th>\n",
              "      <th>False positive rate</th>\n",
              "      <th>False negative rate</th>\n",
              "      <th>Recall</th>\n",
              "      <th>Precision</th>\n",
              "      <th>F1 measure</th>\n",
              "      <th>Error rate</th>\n",
              "      <th>Accuracy</th>\n",
              "      <th>Balanced Accuracy</th>\n",
              "      <th>True Skill Statistics</th>\n",
              "      <th>Heidke Skill Score</th>\n",
              "    </tr>\n",
              "  </thead>\n",
              "  <tbody>\n",
              "    <tr>\n",
              "      <th>0</th>\n",
              "      <td>18</td>\n",
              "      <td>13</td>\n",
              "      <td>88</td>\n",
              "      <td>35</td>\n",
              "      <td>0.830189</td>\n",
              "      <td>0.729167</td>\n",
              "      <td>0.270833</td>\n",
              "      <td>0.169811</td>\n",
              "      <td>0.830189</td>\n",
              "      <td>0.871287</td>\n",
              "      <td>0.850242</td>\n",
              "      <td>0.201299</td>\n",
              "      <td>0.798701</td>\n",
              "      <td>0.779678</td>\n",
              "      <td>0.559355</td>\n",
              "      <td>0.543856</td>\n",
              "    </tr>\n",
              "  </tbody>\n",
              "</table>\n",
              "</div>"
            ],
            "text/plain": [
              "   False negative  False positive  ...  True Skill Statistics  Heidke Skill Score\n",
              "0              18              13  ...               0.559355            0.543856\n",
              "\n",
              "[1 rows x 16 columns]"
            ]
          },
          "metadata": {}
        },
        {
          "output_type": "stream",
          "name": "stdout",
          "text": [
            "iteration : 7\n"
          ]
        },
        {
          "output_type": "display_data",
          "data": {
            "image/png": "[encoded data removed]",
            "text/plain": [
              "<Figure size 432x288 with 1 Axes>"
            ]
          },
          "metadata": {
            "needs_background": "light"
          }
        },
        {
          "output_type": "display_data",
          "data": {
            "text/html": [
              "<div>\n",
              "<style scoped>\n",
              "    .dataframe tbody tr th:only-of-type {\n",
              "        vertical-align: middle;\n",
              "    }\n",
              "\n",
              "    .dataframe tbody tr th {\n",
              "        vertical-align: top;\n",
              "    }\n",
              "\n",
              "    .dataframe thead th {\n",
              "        text-align: right;\n",
              "    }\n",
              "</style>\n",
              "<table border=\"1\" class=\"dataframe\">\n",
              "  <thead>\n",
              "    <tr style=\"text-align: right;\">\n",
              "      <th></th>\n",
              "      <th>False negative</th>\n",
              "      <th>False positive</th>\n",
              "      <th>True positive</th>\n",
              "      <th>True negative</th>\n",
              "      <th>True positive rate</th>\n",
              "      <th>True negative rate</th>\n",
              "      <th>False positive rate</th>\n",
              "      <th>False negative rate</th>\n",
              "      <th>Recall</th>\n",
              "      <th>Precision</th>\n",
              "      <th>F1 measure</th>\n",
              "      <th>Error rate</th>\n",
              "      <th>Accuracy</th>\n",
              "      <th>Balanced Accuracy</th>\n",
              "      <th>True Skill Statistics</th>\n",
              "      <th>Heidke Skill Score</th>\n",
              "    </tr>\n",
              "  </thead>\n",
              "  <tbody>\n",
              "    <tr>\n",
              "      <th>0</th>\n",
              "      <td>28</td>\n",
              "      <td>13</td>\n",
              "      <td>76</td>\n",
              "      <td>37</td>\n",
              "      <td>0.730769</td>\n",
              "      <td>0.74</td>\n",
              "      <td>0.26</td>\n",
              "      <td>0.269231</td>\n",
              "      <td>0.730769</td>\n",
              "      <td>0.853933</td>\n",
              "      <td>0.787565</td>\n",
              "      <td>0.266234</td>\n",
              "      <td>0.733766</td>\n",
              "      <td>0.735385</td>\n",
              "      <td>0.470769</td>\n",
              "      <td>0.436753</td>\n",
              "    </tr>\n",
              "  </tbody>\n",
              "</table>\n",
              "</div>"
            ],
            "text/plain": [
              "   False negative  False positive  ...  True Skill Statistics  Heidke Skill Score\n",
              "0              28              13  ...               0.470769            0.436753\n",
              "\n",
              "[1 rows x 16 columns]"
            ]
          },
          "metadata": {}
        },
        {
          "output_type": "stream",
          "name": "stdout",
          "text": [
            "iteration : 8\n"
          ]
        },
        {
          "output_type": "display_data",
          "data": {
            "image/png": "[encoded data removed]",
            "text/plain": [
              "<Figure size 432x288 with 1 Axes>"
            ]
          },
          "metadata": {
            "needs_background": "light"
          }
        },
        {
          "output_type": "display_data",
          "data": {
            "text/html": [
              "<div>\n",
              "<style scoped>\n",
              "    .dataframe tbody tr th:only-of-type {\n",
              "        vertical-align: middle;\n",
              "    }\n",
              "\n",
              "    .dataframe tbody tr th {\n",
              "        vertical-align: top;\n",
              "    }\n",
              "\n",
              "    .dataframe thead th {\n",
              "        text-align: right;\n",
              "    }\n",
              "</style>\n",
              "<table border=\"1\" class=\"dataframe\">\n",
              "  <thead>\n",
              "    <tr style=\"text-align: right;\">\n",
              "      <th></th>\n",
              "      <th>False negative</th>\n",
              "      <th>False positive</th>\n",
              "      <th>True positive</th>\n",
              "      <th>True negative</th>\n",
              "      <th>True positive rate</th>\n",
              "      <th>True negative rate</th>\n",
              "      <th>False positive rate</th>\n",
              "      <th>False negative rate</th>\n",
              "      <th>Recall</th>\n",
              "      <th>Precision</th>\n",
              "      <th>F1 measure</th>\n",
              "      <th>Error rate</th>\n",
              "      <th>Accuracy</th>\n",
              "      <th>Balanced Accuracy</th>\n",
              "      <th>True Skill Statistics</th>\n",
              "      <th>Heidke Skill Score</th>\n",
              "    </tr>\n",
              "  </thead>\n",
              "  <tbody>\n",
              "    <tr>\n",
              "      <th>0</th>\n",
              "      <td>20</td>\n",
              "      <td>14</td>\n",
              "      <td>82</td>\n",
              "      <td>38</td>\n",
              "      <td>0.803922</td>\n",
              "      <td>0.730769</td>\n",
              "      <td>0.269231</td>\n",
              "      <td>0.196078</td>\n",
              "      <td>0.803922</td>\n",
              "      <td>0.854167</td>\n",
              "      <td>0.828283</td>\n",
              "      <td>0.220779</td>\n",
              "      <td>0.779221</td>\n",
              "      <td>0.767345</td>\n",
              "      <td>0.534691</td>\n",
              "      <td>0.519985</td>\n",
              "    </tr>\n",
              "  </tbody>\n",
              "</table>\n",
              "</div>"
            ],
            "text/plain": [
              "   False negative  False positive  ...  True Skill Statistics  Heidke Skill Score\n",
              "0              20              14  ...               0.534691            0.519985\n",
              "\n",
              "[1 rows x 16 columns]"
            ]
          },
          "metadata": {}
        },
        {
          "output_type": "stream",
          "name": "stdout",
          "text": [
            "iteration : 9\n"
          ]
        },
        {
          "output_type": "display_data",
          "data": {
            "image/png": "[encoded data removed]",
            "text/plain": [
              "<Figure size 432x288 with 1 Axes>"
            ]
          },
          "metadata": {
            "needs_background": "light"
          }
        },
        {
          "output_type": "display_data",
          "data": {
            "text/html": [
              "<div>\n",
              "<style scoped>\n",
              "    .dataframe tbody tr th:only-of-type {\n",
              "        vertical-align: middle;\n",
              "    }\n",
              "\n",
              "    .dataframe tbody tr th {\n",
              "        vertical-align: top;\n",
              "    }\n",
              "\n",
              "    .dataframe thead th {\n",
              "        text-align: right;\n",
              "    }\n",
              "</style>\n",
              "<table border=\"1\" class=\"dataframe\">\n",
              "  <thead>\n",
              "    <tr style=\"text-align: right;\">\n",
              "      <th></th>\n",
              "      <th>False negative</th>\n",
              "      <th>False positive</th>\n",
              "      <th>True positive</th>\n",
              "      <th>True negative</th>\n",
              "      <th>True positive rate</th>\n",
              "      <th>True negative rate</th>\n",
              "      <th>False positive rate</th>\n",
              "      <th>False negative rate</th>\n",
              "      <th>Recall</th>\n",
              "      <th>Precision</th>\n",
              "      <th>F1 measure</th>\n",
              "      <th>Error rate</th>\n",
              "      <th>Accuracy</th>\n",
              "      <th>Balanced Accuracy</th>\n",
              "      <th>True Skill Statistics</th>\n",
              "      <th>Heidke Skill Score</th>\n",
              "    </tr>\n",
              "  </thead>\n",
              "  <tbody>\n",
              "    <tr>\n",
              "      <th>0</th>\n",
              "      <td>29</td>\n",
              "      <td>17</td>\n",
              "      <td>81</td>\n",
              "      <td>27</td>\n",
              "      <td>0.736364</td>\n",
              "      <td>0.613636</td>\n",
              "      <td>0.386364</td>\n",
              "      <td>0.263636</td>\n",
              "      <td>0.736364</td>\n",
              "      <td>0.826531</td>\n",
              "      <td>0.778846</td>\n",
              "      <td>0.298701</td>\n",
              "      <td>0.701299</td>\n",
              "      <td>0.675</td>\n",
              "      <td>0.35</td>\n",
              "      <td>0.323529</td>\n",
              "    </tr>\n",
              "  </tbody>\n",
              "</table>\n",
              "</div>"
            ],
            "text/plain": [
              "   False negative  False positive  ...  True Skill Statistics  Heidke Skill Score\n",
              "0              29              17  ...                   0.35            0.323529\n",
              "\n",
              "[1 rows x 16 columns]"
            ]
          },
          "metadata": {}
        },
        {
          "output_type": "stream",
          "name": "stdout",
          "text": [
            "iteration : 10\n"
          ]
        },
        {
          "output_type": "display_data",
          "data": {
            "image/png": "[encoded data removed]",
            "text/plain": [
              "<Figure size 432x288 with 1 Axes>"
            ]
          },
          "metadata": {
            "needs_background": "light"
          }
        },
        {
          "output_type": "display_data",
          "data": {
            "text/html": [
              "<div>\n",
              "<style scoped>\n",
              "    .dataframe tbody tr th:only-of-type {\n",
              "        vertical-align: middle;\n",
              "    }\n",
              "\n",
              "    .dataframe tbody tr th {\n",
              "        vertical-align: top;\n",
              "    }\n",
              "\n",
              "    .dataframe thead th {\n",
              "        text-align: right;\n",
              "    }\n",
              "</style>\n",
              "<table border=\"1\" class=\"dataframe\">\n",
              "  <thead>\n",
              "    <tr style=\"text-align: right;\">\n",
              "      <th></th>\n",
              "      <th>False negative</th>\n",
              "      <th>False positive</th>\n",
              "      <th>True positive</th>\n",
              "      <th>True negative</th>\n",
              "      <th>True positive rate</th>\n",
              "      <th>True negative rate</th>\n",
              "      <th>False positive rate</th>\n",
              "      <th>False negative rate</th>\n",
              "      <th>Recall</th>\n",
              "      <th>Precision</th>\n",
              "      <th>F1 measure</th>\n",
              "      <th>Error rate</th>\n",
              "      <th>Accuracy</th>\n",
              "      <th>Balanced Accuracy</th>\n",
              "      <th>True Skill Statistics</th>\n",
              "      <th>Heidke Skill Score</th>\n",
              "    </tr>\n",
              "  </thead>\n",
              "  <tbody>\n",
              "    <tr>\n",
              "      <th>0</th>\n",
              "      <td>23</td>\n",
              "      <td>17</td>\n",
              "      <td>81</td>\n",
              "      <td>33</td>\n",
              "      <td>0.778846</td>\n",
              "      <td>0.66</td>\n",
              "      <td>0.34</td>\n",
              "      <td>0.221154</td>\n",
              "      <td>0.778846</td>\n",
              "      <td>0.826531</td>\n",
              "      <td>0.80198</td>\n",
              "      <td>0.25974</td>\n",
              "      <td>0.74026</td>\n",
              "      <td>0.719423</td>\n",
              "      <td>0.438846</td>\n",
              "      <td>0.425587</td>\n",
              "    </tr>\n",
              "  </tbody>\n",
              "</table>\n",
              "</div>"
            ],
            "text/plain": [
              "   False negative  False positive  ...  True Skill Statistics  Heidke Skill Score\n",
              "0              23              17  ...               0.438846            0.425587\n",
              "\n",
              "[1 rows x 16 columns]"
            ]
          },
          "metadata": {}
        },
        {
          "output_type": "stream",
          "name": "stdout",
          "text": [
            " Mean Accuracy of Naive Bayes : 75.5844155844156\n"
          ]
        }
      ]
    },
    {
      "cell_type": "markdown",
      "metadata": {
        "id": "eLFGDY-aA0nc"
      },
      "source": [
        "# Implementing LSTM :"
      ]
    },
    {
      "cell_type": "code",
      "metadata": {
        "colab": {
          "base_uri": "https://localhost:8080/",
          "height": 1000
        },
        "id": "UmcT988XUAS0",
        "outputId": "5a4f26a7-8017-4f55-d064-12abab100e62"
      },
      "source": [
        "for i in range(1,11):\n",
        "    X_train, X_test, y_train, y_test = train_test_split(X,Y,test_size=0.2)\n",
        "    model2 = Sequential()\n",
        "    model2.add(LSTM(units = 64, return_sequences = True,input_shape= (X_train.shape[1],1)))\n",
        "    model2.add(LSTM(units = 64, return_sequences = True))\n",
        "    model2.add(Dense(units = 1,activation='softmax'))\n",
        "    model2.compile(optimizer = 'adam', loss = 'binary_crossentropy', metrics=['accuracy'])\n",
        "    model2.fit(X_train,y_train)\n",
        "    prediction_rm=model2.predict(X_test)\n",
        "    prediction_value=prediction_rm[:,0]\n",
        "    print(\"iteration\",i)\n",
        "    y_pred_keras = prediction_value.ravel()\n",
        "    fpr_keras, tpr_keras, thresholds_keras = roc_curve(y_test, y_pred_keras)\n",
        "    auc_keras = auc(fpr_keras, tpr_keras)\n",
        "    plt.plot([0, 1], [0, 1], 'k--')\n",
        "    plt.plot(fpr_keras, tpr_keras, label='LSTM (area = {:.3f})'.format(auc_keras))\n",
        "    plt.xlabel('False positive rate')\n",
        "    plt.ylabel('True positive rate')\n",
        "    plt.title('ROC curve')\n",
        "    plt.legend(loc='best')\n",
        "    plt.show()\n",
        "    n_lstm=tf.math.confusion_matrix(y_test,prediction_value)\n",
        "    confusion_matrix_lstm=n_lstm.numpy()\n",
        "    final_value=calculate(confusion_matrix_lstm)\n",
        "    display(final_value)\n",
        "print(\"Mean Accuracy of LSTM on data: \")\n",
        "model2.evaluate(X_test,y_test)\n"
      ],
      "execution_count": 129,
      "outputs": [
        {
          "output_type": "stream",
          "name": "stdout",
          "text": [
            "20/20 [==============================] - 5s 13ms/step - loss: 10.2076 - accuracy: 0.3306\n",
            "iteration 1\n"
          ]
        },
        {
          "output_type": "display_data",
          "data": {
            "image/png": "[encoded data removed]",
            "text/plain": [
              "<Figure size 432x288 with 1 Axes>"
            ]
          },
          "metadata": {
            "needs_background": "light"
          }
        },
        {
          "output_type": "display_data",
          "data": {
            "text/html": [
              "<div>\n",
              "<style scoped>\n",
              "    .dataframe tbody tr th:only-of-type {\n",
              "        vertical-align: middle;\n",
              "    }\n",
              "\n",
              "    .dataframe tbody tr th {\n",
              "        vertical-align: top;\n",
              "    }\n",
              "\n",
              "    .dataframe thead th {\n",
              "        text-align: right;\n",
              "    }\n",
              "</style>\n",
              "<table border=\"1\" class=\"dataframe\">\n",
              "  <thead>\n",
              "    <tr style=\"text-align: right;\">\n",
              "      <th></th>\n",
              "      <th>False negative</th>\n",
              "      <th>False positive</th>\n",
              "      <th>True positive</th>\n",
              "      <th>True negative</th>\n",
              "      <th>True positive rate</th>\n",
              "      <th>True negative rate</th>\n",
              "      <th>False positive rate</th>\n",
              "      <th>False negative rate</th>\n",
              "      <th>Recall</th>\n",
              "      <th>Precision</th>\n",
              "      <th>F1 measure</th>\n",
              "      <th>Error rate</th>\n",
              "      <th>Accuracy</th>\n",
              "      <th>Balanced Accuracy</th>\n",
              "      <th>True Skill Statistics</th>\n",
              "      <th>Heidke Skill Score</th>\n",
              "    </tr>\n",
              "  </thead>\n",
              "  <tbody>\n",
              "    <tr>\n",
              "      <th>0</th>\n",
              "      <td>0</td>\n",
              "      <td>89</td>\n",
              "      <td>0</td>\n",
              "      <td>65</td>\n",
              "      <td>NaN</td>\n",
              "      <td>0.422078</td>\n",
              "      <td>0.577922</td>\n",
              "      <td>NaN</td>\n",
              "      <td>NaN</td>\n",
              "      <td>0.0</td>\n",
              "      <td>0.0</td>\n",
              "      <td>0.577922</td>\n",
              "      <td>0.422078</td>\n",
              "      <td>NaN</td>\n",
              "      <td>NaN</td>\n",
              "      <td>0.0</td>\n",
              "    </tr>\n",
              "  </tbody>\n",
              "</table>\n",
              "</div>"
            ],
            "text/plain": [
              "   False negative  False positive  ...  True Skill Statistics  Heidke Skill Score\n",
              "0               0              89  ...                    NaN                 0.0\n",
              "\n",
              "[1 rows x 16 columns]"
            ]
          },
          "metadata": {}
        },
        {
          "output_type": "stream",
          "name": "stdout",
          "text": [
            "20/20 [==============================] - 4s 13ms/step - loss: 10.2324 - accuracy: 0.3290\n",
            "iteration 2\n"
          ]
        },
        {
          "output_type": "display_data",
          "data": {
            "image/png": "[encoded data removed]",
            "text/plain": [
              "<Figure size 432x288 with 1 Axes>"
            ]
          },
          "metadata": {
            "needs_background": "light"
          }
        },
        {
          "output_type": "display_data",
          "data": {
            "text/html": [
              "<div>\n",
              "<style scoped>\n",
              "    .dataframe tbody tr th:only-of-type {\n",
              "        vertical-align: middle;\n",
              "    }\n",
              "\n",
              "    .dataframe tbody tr th {\n",
              "        vertical-align: top;\n",
              "    }\n",
              "\n",
              "    .dataframe thead th {\n",
              "        text-align: right;\n",
              "    }\n",
              "</style>\n",
              "<table border=\"1\" class=\"dataframe\">\n",
              "  <thead>\n",
              "    <tr style=\"text-align: right;\">\n",
              "      <th></th>\n",
              "      <th>False negative</th>\n",
              "      <th>False positive</th>\n",
              "      <th>True positive</th>\n",
              "      <th>True negative</th>\n",
              "      <th>True positive rate</th>\n",
              "      <th>True negative rate</th>\n",
              "      <th>False positive rate</th>\n",
              "      <th>False negative rate</th>\n",
              "      <th>Recall</th>\n",
              "      <th>Precision</th>\n",
              "      <th>F1 measure</th>\n",
              "      <th>Error rate</th>\n",
              "      <th>Accuracy</th>\n",
              "      <th>Balanced Accuracy</th>\n",
              "      <th>True Skill Statistics</th>\n",
              "      <th>Heidke Skill Score</th>\n",
              "    </tr>\n",
              "  </thead>\n",
              "  <tbody>\n",
              "    <tr>\n",
              "      <th>0</th>\n",
              "      <td>0</td>\n",
              "      <td>88</td>\n",
              "      <td>0</td>\n",
              "      <td>66</td>\n",
              "      <td>NaN</td>\n",
              "      <td>0.428571</td>\n",
              "      <td>0.571429</td>\n",
              "      <td>NaN</td>\n",
              "      <td>NaN</td>\n",
              "      <td>0.0</td>\n",
              "      <td>0.0</td>\n",
              "      <td>0.571429</td>\n",
              "      <td>0.428571</td>\n",
              "      <td>NaN</td>\n",
              "      <td>NaN</td>\n",
              "      <td>0.0</td>\n",
              "    </tr>\n",
              "  </tbody>\n",
              "</table>\n",
              "</div>"
            ],
            "text/plain": [
              "   False negative  False positive  ...  True Skill Statistics  Heidke Skill Score\n",
              "0               0              88  ...                    NaN                 0.0\n",
              "\n",
              "[1 rows x 16 columns]"
            ]
          },
          "metadata": {}
        },
        {
          "output_type": "stream",
          "name": "stdout",
          "text": [
            "20/20 [==============================] - 5s 13ms/step - loss: 10.0337 - accuracy: 0.3420\n",
            "iteration 3\n"
          ]
        },
        {
          "output_type": "display_data",
          "data": {
            "image/png": "[encoded data removed]",
            "text/plain": [
              "<Figure size 432x288 with 1 Axes>"
            ]
          },
          "metadata": {
            "needs_background": "light"
          }
        },
        {
          "output_type": "display_data",
          "data": {
            "text/html": [
              "<div>\n",
              "<style scoped>\n",
              "    .dataframe tbody tr th:only-of-type {\n",
              "        vertical-align: middle;\n",
              "    }\n",
              "\n",
              "    .dataframe tbody tr th {\n",
              "        vertical-align: top;\n",
              "    }\n",
              "\n",
              "    .dataframe thead th {\n",
              "        text-align: right;\n",
              "    }\n",
              "</style>\n",
              "<table border=\"1\" class=\"dataframe\">\n",
              "  <thead>\n",
              "    <tr style=\"text-align: right;\">\n",
              "      <th></th>\n",
              "      <th>False negative</th>\n",
              "      <th>False positive</th>\n",
              "      <th>True positive</th>\n",
              "      <th>True negative</th>\n",
              "      <th>True positive rate</th>\n",
              "      <th>True negative rate</th>\n",
              "      <th>False positive rate</th>\n",
              "      <th>False negative rate</th>\n",
              "      <th>Recall</th>\n",
              "      <th>Precision</th>\n",
              "      <th>F1 measure</th>\n",
              "      <th>Error rate</th>\n",
              "      <th>Accuracy</th>\n",
              "      <th>Balanced Accuracy</th>\n",
              "      <th>True Skill Statistics</th>\n",
              "      <th>Heidke Skill Score</th>\n",
              "    </tr>\n",
              "  </thead>\n",
              "  <tbody>\n",
              "    <tr>\n",
              "      <th>0</th>\n",
              "      <td>0</td>\n",
              "      <td>96</td>\n",
              "      <td>0</td>\n",
              "      <td>58</td>\n",
              "      <td>NaN</td>\n",
              "      <td>0.376623</td>\n",
              "      <td>0.623377</td>\n",
              "      <td>NaN</td>\n",
              "      <td>NaN</td>\n",
              "      <td>0.0</td>\n",
              "      <td>0.0</td>\n",
              "      <td>0.623377</td>\n",
              "      <td>0.376623</td>\n",
              "      <td>NaN</td>\n",
              "      <td>NaN</td>\n",
              "      <td>0.0</td>\n",
              "    </tr>\n",
              "  </tbody>\n",
              "</table>\n",
              "</div>"
            ],
            "text/plain": [
              "   False negative  False positive  ...  True Skill Statistics  Heidke Skill Score\n",
              "0               0              96  ...                    NaN                 0.0\n",
              "\n",
              "[1 rows x 16 columns]"
            ]
          },
          "metadata": {}
        },
        {
          "output_type": "stream",
          "name": "stdout",
          "text": [
            "20/20 [==============================] - 4s 13ms/step - loss: 10.2076 - accuracy: 0.3306\n",
            "iteration 4\n"
          ]
        },
        {
          "output_type": "display_data",
          "data": {
            "image/png": "[encoded data removed]",
            "text/plain": [
              "<Figure size 432x288 with 1 Axes>"
            ]
          },
          "metadata": {
            "needs_background": "light"
          }
        },
        {
          "output_type": "display_data",
          "data": {
            "text/html": [
              "<div>\n",
              "<style scoped>\n",
              "    .dataframe tbody tr th:only-of-type {\n",
              "        vertical-align: middle;\n",
              "    }\n",
              "\n",
              "    .dataframe tbody tr th {\n",
              "        vertical-align: top;\n",
              "    }\n",
              "\n",
              "    .dataframe thead th {\n",
              "        text-align: right;\n",
              "    }\n",
              "</style>\n",
              "<table border=\"1\" class=\"dataframe\">\n",
              "  <thead>\n",
              "    <tr style=\"text-align: right;\">\n",
              "      <th></th>\n",
              "      <th>False negative</th>\n",
              "      <th>False positive</th>\n",
              "      <th>True positive</th>\n",
              "      <th>True negative</th>\n",
              "      <th>True positive rate</th>\n",
              "      <th>True negative rate</th>\n",
              "      <th>False positive rate</th>\n",
              "      <th>False negative rate</th>\n",
              "      <th>Recall</th>\n",
              "      <th>Precision</th>\n",
              "      <th>F1 measure</th>\n",
              "      <th>Error rate</th>\n",
              "      <th>Accuracy</th>\n",
              "      <th>Balanced Accuracy</th>\n",
              "      <th>True Skill Statistics</th>\n",
              "      <th>Heidke Skill Score</th>\n",
              "    </tr>\n",
              "  </thead>\n",
              "  <tbody>\n",
              "    <tr>\n",
              "      <th>0</th>\n",
              "      <td>0</td>\n",
              "      <td>89</td>\n",
              "      <td>0</td>\n",
              "      <td>65</td>\n",
              "      <td>NaN</td>\n",
              "      <td>0.422078</td>\n",
              "      <td>0.577922</td>\n",
              "      <td>NaN</td>\n",
              "      <td>NaN</td>\n",
              "      <td>0.0</td>\n",
              "      <td>0.0</td>\n",
              "      <td>0.577922</td>\n",
              "      <td>0.422078</td>\n",
              "      <td>NaN</td>\n",
              "      <td>NaN</td>\n",
              "      <td>0.0</td>\n",
              "    </tr>\n",
              "  </tbody>\n",
              "</table>\n",
              "</div>"
            ],
            "text/plain": [
              "   False negative  False positive  ...  True Skill Statistics  Heidke Skill Score\n",
              "0               0              89  ...                    NaN                 0.0\n",
              "\n",
              "[1 rows x 16 columns]"
            ]
          },
          "metadata": {}
        },
        {
          "output_type": "stream",
          "name": "stdout",
          "text": [
            "20/20 [==============================] - 4s 13ms/step - loss: 9.9095 - accuracy: 0.3502\n",
            "iteration 5\n"
          ]
        },
        {
          "output_type": "display_data",
          "data": {
            "image/png": "[encoded data removed]",
            "text/plain": [
              "<Figure size 432x288 with 1 Axes>"
            ]
          },
          "metadata": {
            "needs_background": "light"
          }
        },
        {
          "output_type": "display_data",
          "data": {
            "text/html": [
              "<div>\n",
              "<style scoped>\n",
              "    .dataframe tbody tr th:only-of-type {\n",
              "        vertical-align: middle;\n",
              "    }\n",
              "\n",
              "    .dataframe tbody tr th {\n",
              "        vertical-align: top;\n",
              "    }\n",
              "\n",
              "    .dataframe thead th {\n",
              "        text-align: right;\n",
              "    }\n",
              "</style>\n",
              "<table border=\"1\" class=\"dataframe\">\n",
              "  <thead>\n",
              "    <tr style=\"text-align: right;\">\n",
              "      <th></th>\n",
              "      <th>False negative</th>\n",
              "      <th>False positive</th>\n",
              "      <th>True positive</th>\n",
              "      <th>True negative</th>\n",
              "      <th>True positive rate</th>\n",
              "      <th>True negative rate</th>\n",
              "      <th>False positive rate</th>\n",
              "      <th>False negative rate</th>\n",
              "      <th>Recall</th>\n",
              "      <th>Precision</th>\n",
              "      <th>F1 measure</th>\n",
              "      <th>Error rate</th>\n",
              "      <th>Accuracy</th>\n",
              "      <th>Balanced Accuracy</th>\n",
              "      <th>True Skill Statistics</th>\n",
              "      <th>Heidke Skill Score</th>\n",
              "    </tr>\n",
              "  </thead>\n",
              "  <tbody>\n",
              "    <tr>\n",
              "      <th>0</th>\n",
              "      <td>0</td>\n",
              "      <td>101</td>\n",
              "      <td>0</td>\n",
              "      <td>53</td>\n",
              "      <td>NaN</td>\n",
              "      <td>0.344156</td>\n",
              "      <td>0.655844</td>\n",
              "      <td>NaN</td>\n",
              "      <td>NaN</td>\n",
              "      <td>0.0</td>\n",
              "      <td>0.0</td>\n",
              "      <td>0.655844</td>\n",
              "      <td>0.344156</td>\n",
              "      <td>NaN</td>\n",
              "      <td>NaN</td>\n",
              "      <td>0.0</td>\n",
              "    </tr>\n",
              "  </tbody>\n",
              "</table>\n",
              "</div>"
            ],
            "text/plain": [
              "   False negative  False positive  ...  True Skill Statistics  Heidke Skill Score\n",
              "0               0             101  ...                    NaN                 0.0\n",
              "\n",
              "[1 rows x 16 columns]"
            ]
          },
          "metadata": {}
        },
        {
          "output_type": "stream",
          "name": "stdout",
          "text": [
            "20/20 [==============================] - 4s 12ms/step - loss: 10.0585 - accuracy: 0.3404\n",
            "iteration 6\n"
          ]
        },
        {
          "output_type": "display_data",
          "data": {
            "image/png": "[encoded data removed]",
            "text/plain": [
              "<Figure size 432x288 with 1 Axes>"
            ]
          },
          "metadata": {
            "needs_background": "light"
          }
        },
        {
          "output_type": "display_data",
          "data": {
            "text/html": [
              "<div>\n",
              "<style scoped>\n",
              "    .dataframe tbody tr th:only-of-type {\n",
              "        vertical-align: middle;\n",
              "    }\n",
              "\n",
              "    .dataframe tbody tr th {\n",
              "        vertical-align: top;\n",
              "    }\n",
              "\n",
              "    .dataframe thead th {\n",
              "        text-align: right;\n",
              "    }\n",
              "</style>\n",
              "<table border=\"1\" class=\"dataframe\">\n",
              "  <thead>\n",
              "    <tr style=\"text-align: right;\">\n",
              "      <th></th>\n",
              "      <th>False negative</th>\n",
              "      <th>False positive</th>\n",
              "      <th>True positive</th>\n",
              "      <th>True negative</th>\n",
              "      <th>True positive rate</th>\n",
              "      <th>True negative rate</th>\n",
              "      <th>False positive rate</th>\n",
              "      <th>False negative rate</th>\n",
              "      <th>Recall</th>\n",
              "      <th>Precision</th>\n",
              "      <th>F1 measure</th>\n",
              "      <th>Error rate</th>\n",
              "      <th>Accuracy</th>\n",
              "      <th>Balanced Accuracy</th>\n",
              "      <th>True Skill Statistics</th>\n",
              "      <th>Heidke Skill Score</th>\n",
              "    </tr>\n",
              "  </thead>\n",
              "  <tbody>\n",
              "    <tr>\n",
              "      <th>0</th>\n",
              "      <td>0</td>\n",
              "      <td>95</td>\n",
              "      <td>0</td>\n",
              "      <td>59</td>\n",
              "      <td>NaN</td>\n",
              "      <td>0.383117</td>\n",
              "      <td>0.616883</td>\n",
              "      <td>NaN</td>\n",
              "      <td>NaN</td>\n",
              "      <td>0.0</td>\n",
              "      <td>0.0</td>\n",
              "      <td>0.616883</td>\n",
              "      <td>0.383117</td>\n",
              "      <td>NaN</td>\n",
              "      <td>NaN</td>\n",
              "      <td>0.0</td>\n",
              "    </tr>\n",
              "  </tbody>\n",
              "</table>\n",
              "</div>"
            ],
            "text/plain": [
              "   False negative  False positive  ...  True Skill Statistics  Heidke Skill Score\n",
              "0               0              95  ...                    NaN                 0.0\n",
              "\n",
              "[1 rows x 16 columns]"
            ]
          },
          "metadata": {}
        },
        {
          "output_type": "stream",
          "name": "stdout",
          "text": [
            "20/20 [==============================] - 4s 12ms/step - loss: 9.9095 - accuracy: 0.3502\n",
            "iteration 7\n"
          ]
        },
        {
          "output_type": "display_data",
          "data": {
            "image/png": "[encoded data removed]",
            "text/plain": [
              "<Figure size 432x288 with 1 Axes>"
            ]
          },
          "metadata": {
            "needs_background": "light"
          }
        },
        {
          "output_type": "display_data",
          "data": {
            "text/html": [
              "<div>\n",
              "<style scoped>\n",
              "    .dataframe tbody tr th:only-of-type {\n",
              "        vertical-align: middle;\n",
              "    }\n",
              "\n",
              "    .dataframe tbody tr th {\n",
              "        vertical-align: top;\n",
              "    }\n",
              "\n",
              "    .dataframe thead th {\n",
              "        text-align: right;\n",
              "    }\n",
              "</style>\n",
              "<table border=\"1\" class=\"dataframe\">\n",
              "  <thead>\n",
              "    <tr style=\"text-align: right;\">\n",
              "      <th></th>\n",
              "      <th>False negative</th>\n",
              "      <th>False positive</th>\n",
              "      <th>True positive</th>\n",
              "      <th>True negative</th>\n",
              "      <th>True positive rate</th>\n",
              "      <th>True negative rate</th>\n",
              "      <th>False positive rate</th>\n",
              "      <th>False negative rate</th>\n",
              "      <th>Recall</th>\n",
              "      <th>Precision</th>\n",
              "      <th>F1 measure</th>\n",
              "      <th>Error rate</th>\n",
              "      <th>Accuracy</th>\n",
              "      <th>Balanced Accuracy</th>\n",
              "      <th>True Skill Statistics</th>\n",
              "      <th>Heidke Skill Score</th>\n",
              "    </tr>\n",
              "  </thead>\n",
              "  <tbody>\n",
              "    <tr>\n",
              "      <th>0</th>\n",
              "      <td>0</td>\n",
              "      <td>101</td>\n",
              "      <td>0</td>\n",
              "      <td>53</td>\n",
              "      <td>NaN</td>\n",
              "      <td>0.344156</td>\n",
              "      <td>0.655844</td>\n",
              "      <td>NaN</td>\n",
              "      <td>NaN</td>\n",
              "      <td>0.0</td>\n",
              "      <td>0.0</td>\n",
              "      <td>0.655844</td>\n",
              "      <td>0.344156</td>\n",
              "      <td>NaN</td>\n",
              "      <td>NaN</td>\n",
              "      <td>0.0</td>\n",
              "    </tr>\n",
              "  </tbody>\n",
              "</table>\n",
              "</div>"
            ],
            "text/plain": [
              "   False negative  False positive  ...  True Skill Statistics  Heidke Skill Score\n",
              "0               0             101  ...                    NaN                 0.0\n",
              "\n",
              "[1 rows x 16 columns]"
            ]
          },
          "metadata": {}
        },
        {
          "output_type": "stream",
          "name": "stdout",
          "text": [
            "20/20 [==============================] - 5s 13ms/step - loss: 9.8598 - accuracy: 0.3534\n",
            "iteration 8\n"
          ]
        },
        {
          "output_type": "display_data",
          "data": {
            "image/png": "[encoded data removed]",
            "text/plain": [
              "<Figure size 432x288 with 1 Axes>"
            ]
          },
          "metadata": {
            "needs_background": "light"
          }
        },
        {
          "output_type": "display_data",
          "data": {
            "text/html": [
              "<div>\n",
              "<style scoped>\n",
              "    .dataframe tbody tr th:only-of-type {\n",
              "        vertical-align: middle;\n",
              "    }\n",
              "\n",
              "    .dataframe tbody tr th {\n",
              "        vertical-align: top;\n",
              "    }\n",
              "\n",
              "    .dataframe thead th {\n",
              "        text-align: right;\n",
              "    }\n",
              "</style>\n",
              "<table border=\"1\" class=\"dataframe\">\n",
              "  <thead>\n",
              "    <tr style=\"text-align: right;\">\n",
              "      <th></th>\n",
              "      <th>False negative</th>\n",
              "      <th>False positive</th>\n",
              "      <th>True positive</th>\n",
              "      <th>True negative</th>\n",
              "      <th>True positive rate</th>\n",
              "      <th>True negative rate</th>\n",
              "      <th>False positive rate</th>\n",
              "      <th>False negative rate</th>\n",
              "      <th>Recall</th>\n",
              "      <th>Precision</th>\n",
              "      <th>F1 measure</th>\n",
              "      <th>Error rate</th>\n",
              "      <th>Accuracy</th>\n",
              "      <th>Balanced Accuracy</th>\n",
              "      <th>True Skill Statistics</th>\n",
              "      <th>Heidke Skill Score</th>\n",
              "    </tr>\n",
              "  </thead>\n",
              "  <tbody>\n",
              "    <tr>\n",
              "      <th>0</th>\n",
              "      <td>0</td>\n",
              "      <td>103</td>\n",
              "      <td>0</td>\n",
              "      <td>51</td>\n",
              "      <td>NaN</td>\n",
              "      <td>0.331169</td>\n",
              "      <td>0.668831</td>\n",
              "      <td>NaN</td>\n",
              "      <td>NaN</td>\n",
              "      <td>0.0</td>\n",
              "      <td>0.0</td>\n",
              "      <td>0.668831</td>\n",
              "      <td>0.331169</td>\n",
              "      <td>NaN</td>\n",
              "      <td>NaN</td>\n",
              "      <td>0.0</td>\n",
              "    </tr>\n",
              "  </tbody>\n",
              "</table>\n",
              "</div>"
            ],
            "text/plain": [
              "   False negative  False positive  ...  True Skill Statistics  Heidke Skill Score\n",
              "0               0             103  ...                    NaN                 0.0\n",
              "\n",
              "[1 rows x 16 columns]"
            ]
          },
          "metadata": {}
        },
        {
          "output_type": "stream",
          "name": "stdout",
          "text": [
            "20/20 [==============================] - 4s 13ms/step - loss: 9.8350 - accuracy: 0.3550\n",
            "iteration 9\n"
          ]
        },
        {
          "output_type": "display_data",
          "data": {
            "image/png": "[encoded data removed]",
            "text/plain": [
              "<Figure size 432x288 with 1 Axes>"
            ]
          },
          "metadata": {
            "needs_background": "light"
          }
        },
        {
          "output_type": "display_data",
          "data": {
            "text/html": [
              "<div>\n",
              "<style scoped>\n",
              "    .dataframe tbody tr th:only-of-type {\n",
              "        vertical-align: middle;\n",
              "    }\n",
              "\n",
              "    .dataframe tbody tr th {\n",
              "        vertical-align: top;\n",
              "    }\n",
              "\n",
              "    .dataframe thead th {\n",
              "        text-align: right;\n",
              "    }\n",
              "</style>\n",
              "<table border=\"1\" class=\"dataframe\">\n",
              "  <thead>\n",
              "    <tr style=\"text-align: right;\">\n",
              "      <th></th>\n",
              "      <th>False negative</th>\n",
              "      <th>False positive</th>\n",
              "      <th>True positive</th>\n",
              "      <th>True negative</th>\n",
              "      <th>True positive rate</th>\n",
              "      <th>True negative rate</th>\n",
              "      <th>False positive rate</th>\n",
              "      <th>False negative rate</th>\n",
              "      <th>Recall</th>\n",
              "      <th>Precision</th>\n",
              "      <th>F1 measure</th>\n",
              "      <th>Error rate</th>\n",
              "      <th>Accuracy</th>\n",
              "      <th>Balanced Accuracy</th>\n",
              "      <th>True Skill Statistics</th>\n",
              "      <th>Heidke Skill Score</th>\n",
              "    </tr>\n",
              "  </thead>\n",
              "  <tbody>\n",
              "    <tr>\n",
              "      <th>0</th>\n",
              "      <td>0</td>\n",
              "      <td>104</td>\n",
              "      <td>0</td>\n",
              "      <td>50</td>\n",
              "      <td>NaN</td>\n",
              "      <td>0.324675</td>\n",
              "      <td>0.675325</td>\n",
              "      <td>NaN</td>\n",
              "      <td>NaN</td>\n",
              "      <td>0.0</td>\n",
              "      <td>0.0</td>\n",
              "      <td>0.675325</td>\n",
              "      <td>0.324675</td>\n",
              "      <td>NaN</td>\n",
              "      <td>NaN</td>\n",
              "      <td>0.0</td>\n",
              "    </tr>\n",
              "  </tbody>\n",
              "</table>\n",
              "</div>"
            ],
            "text/plain": [
              "   False negative  False positive  ...  True Skill Statistics  Heidke Skill Score\n",
              "0               0             104  ...                    NaN                 0.0\n",
              "\n",
              "[1 rows x 16 columns]"
            ]
          },
          "metadata": {}
        },
        {
          "output_type": "stream",
          "name": "stdout",
          "text": [
            "20/20 [==============================] - 5s 13ms/step - loss: 9.9095 - accuracy: 0.3502\n",
            "iteration 10\n"
          ]
        },
        {
          "output_type": "display_data",
          "data": {
            "image/png": "[encoded data removed]",
            "text/plain": [
              "<Figure size 432x288 with 1 Axes>"
            ]
          },
          "metadata": {
            "needs_background": "light"
          }
        },
        {
          "output_type": "display_data",
          "data": {
            "text/html": [
              "<div>\n",
              "<style scoped>\n",
              "    .dataframe tbody tr th:only-of-type {\n",
              "        vertical-align: middle;\n",
              "    }\n",
              "\n",
              "    .dataframe tbody tr th {\n",
              "        vertical-align: top;\n",
              "    }\n",
              "\n",
              "    .dataframe thead th {\n",
              "        text-align: right;\n",
              "    }\n",
              "</style>\n",
              "<table border=\"1\" class=\"dataframe\">\n",
              "  <thead>\n",
              "    <tr style=\"text-align: right;\">\n",
              "      <th></th>\n",
              "      <th>False negative</th>\n",
              "      <th>False positive</th>\n",
              "      <th>True positive</th>\n",
              "      <th>True negative</th>\n",
              "      <th>True positive rate</th>\n",
              "      <th>True negative rate</th>\n",
              "      <th>False positive rate</th>\n",
              "      <th>False negative rate</th>\n",
              "      <th>Recall</th>\n",
              "      <th>Precision</th>\n",
              "      <th>F1 measure</th>\n",
              "      <th>Error rate</th>\n",
              "      <th>Accuracy</th>\n",
              "      <th>Balanced Accuracy</th>\n",
              "      <th>True Skill Statistics</th>\n",
              "      <th>Heidke Skill Score</th>\n",
              "    </tr>\n",
              "  </thead>\n",
              "  <tbody>\n",
              "    <tr>\n",
              "      <th>0</th>\n",
              "      <td>0</td>\n",
              "      <td>101</td>\n",
              "      <td>0</td>\n",
              "      <td>53</td>\n",
              "      <td>NaN</td>\n",
              "      <td>0.344156</td>\n",
              "      <td>0.655844</td>\n",
              "      <td>NaN</td>\n",
              "      <td>NaN</td>\n",
              "      <td>0.0</td>\n",
              "      <td>0.0</td>\n",
              "      <td>0.655844</td>\n",
              "      <td>0.344156</td>\n",
              "      <td>NaN</td>\n",
              "      <td>NaN</td>\n",
              "      <td>0.0</td>\n",
              "    </tr>\n",
              "  </tbody>\n",
              "</table>\n",
              "</div>"
            ],
            "text/plain": [
              "   False negative  False positive  ...  True Skill Statistics  Heidke Skill Score\n",
              "0               0             101  ...                    NaN                 0.0\n",
              "\n",
              "[1 rows x 16 columns]"
            ]
          },
          "metadata": {}
        },
        {
          "output_type": "stream",
          "name": "stdout",
          "text": [
            "Mean Accuracy of LSTM on data: \n",
            "5/5 [==============================] - 1s 5ms/step - loss: 10.0011 - accuracy: 0.3442\n"
          ]
        },
        {
          "output_type": "execute_result",
          "data": {
            "text/plain": [
              "[10.001123428344727, 0.34415584802627563]"
            ]
          },
          "metadata": {},
          "execution_count": 129
        }
      ]
    },
    {
      "cell_type": "markdown",
      "metadata": {
        "id": "hpsNYzUxBPeL"
      },
      "source": [
        "# Implementing Random Forest :"
      ]
    },
    {
      "cell_type": "code",
      "metadata": {
        "id": "ZojPPuiNfyFW",
        "colab": {
          "base_uri": "https://localhost:8080/",
          "height": 1000
        },
        "outputId": "aa0c9554-7545-4af2-807d-3d18b259f9bd"
      },
      "source": [
        "from sklearn.ensemble import RandomForestClassifier\n",
        "total_score = 0.0\n",
        "for i in range(1,11):\n",
        "    X_train, X_test, y_train, y_test = train_test_split(X,Y,test_size=0.2)\n",
        "    model3 = RandomForestClassifier()\n",
        "    model3.fit(X_train,y_train)\n",
        "    prediction_rm=model3.predict(X_test)\n",
        "    print(\"iteration :\", i)\n",
        "    metrics.plot_roc_curve(model3, X_test, y_test)\n",
        "    plt.show()\n",
        "    confusion_matrix_Random=confusion_matrix(y_test, prediction_rm)\n",
        "    final_value=calculate(confusion_matrix_Random)\n",
        "    display(final_value)\n",
        "    total_score = total_score + accuracy_score(prediction_rm,y_test)\n",
        "print(\"Mean Accuracy of Random Forest on data: \" , (total_score/10)*100)"
      ],
      "execution_count": 115,
      "outputs": [
        {
          "output_type": "stream",
          "name": "stdout",
          "text": [
            "iteration : 1\n"
          ]
        },
        {
          "output_type": "display_data",
          "data": {
            "image/png": "[encoded data removed]",
            "text/plain": [
              "<Figure size 432x288 with 1 Axes>"
            ]
          },
          "metadata": {
            "needs_background": "light"
          }
        },
        {
          "output_type": "display_data",
          "data": {
            "text/html": [
              "<div>\n",
              "<style scoped>\n",
              "    .dataframe tbody tr th:only-of-type {\n",
              "        vertical-align: middle;\n",
              "    }\n",
              "\n",
              "    .dataframe tbody tr th {\n",
              "        vertical-align: top;\n",
              "    }\n",
              "\n",
              "    .dataframe thead th {\n",
              "        text-align: right;\n",
              "    }\n",
              "</style>\n",
              "<table border=\"1\" class=\"dataframe\">\n",
              "  <thead>\n",
              "    <tr style=\"text-align: right;\">\n",
              "      <th></th>\n",
              "      <th>False negative</th>\n",
              "      <th>False positive</th>\n",
              "      <th>True positive</th>\n",
              "      <th>True negative</th>\n",
              "      <th>True positive rate</th>\n",
              "      <th>True negative rate</th>\n",
              "      <th>False positive rate</th>\n",
              "      <th>False negative rate</th>\n",
              "      <th>Recall</th>\n",
              "      <th>Precision</th>\n",
              "      <th>F1 measure</th>\n",
              "      <th>Error rate</th>\n",
              "      <th>Accuracy</th>\n",
              "      <th>Balanced Accuracy</th>\n",
              "      <th>True Skill Statistics</th>\n",
              "      <th>Heidke Skill Score</th>\n",
              "    </tr>\n",
              "  </thead>\n",
              "  <tbody>\n",
              "    <tr>\n",
              "      <th>0</th>\n",
              "      <td>22</td>\n",
              "      <td>19</td>\n",
              "      <td>86</td>\n",
              "      <td>27</td>\n",
              "      <td>0.796296</td>\n",
              "      <td>0.586957</td>\n",
              "      <td>0.413043</td>\n",
              "      <td>0.203704</td>\n",
              "      <td>0.796296</td>\n",
              "      <td>0.819048</td>\n",
              "      <td>0.807512</td>\n",
              "      <td>0.266234</td>\n",
              "      <td>0.733766</td>\n",
              "      <td>0.691626</td>\n",
              "      <td>0.383253</td>\n",
              "      <td>0.37621</td>\n",
              "    </tr>\n",
              "  </tbody>\n",
              "</table>\n",
              "</div>"
            ],
            "text/plain": [
              "   False negative  False positive  ...  True Skill Statistics  Heidke Skill Score\n",
              "0              22              19  ...               0.383253             0.37621\n",
              "\n",
              "[1 rows x 16 columns]"
            ]
          },
          "metadata": {}
        },
        {
          "output_type": "stream",
          "name": "stdout",
          "text": [
            "iteration : 2\n"
          ]
        },
        {
          "output_type": "display_data",
          "data": {
            "image/png": "[encoded data removed]",
            "text/plain": [
              "<Figure size 432x288 with 1 Axes>"
            ]
          },
          "metadata": {
            "needs_background": "light"
          }
        },
        {
          "output_type": "display_data",
          "data": {
            "text/html": [
              "<div>\n",
              "<style scoped>\n",
              "    .dataframe tbody tr th:only-of-type {\n",
              "        vertical-align: middle;\n",
              "    }\n",
              "\n",
              "    .dataframe tbody tr th {\n",
              "        vertical-align: top;\n",
              "    }\n",
              "\n",
              "    .dataframe thead th {\n",
              "        text-align: right;\n",
              "    }\n",
              "</style>\n",
              "<table border=\"1\" class=\"dataframe\">\n",
              "  <thead>\n",
              "    <tr style=\"text-align: right;\">\n",
              "      <th></th>\n",
              "      <th>False negative</th>\n",
              "      <th>False positive</th>\n",
              "      <th>True positive</th>\n",
              "      <th>True negative</th>\n",
              "      <th>True positive rate</th>\n",
              "      <th>True negative rate</th>\n",
              "      <th>False positive rate</th>\n",
              "      <th>False negative rate</th>\n",
              "      <th>Recall</th>\n",
              "      <th>Precision</th>\n",
              "      <th>F1 measure</th>\n",
              "      <th>Error rate</th>\n",
              "      <th>Accuracy</th>\n",
              "      <th>Balanced Accuracy</th>\n",
              "      <th>True Skill Statistics</th>\n",
              "      <th>Heidke Skill Score</th>\n",
              "    </tr>\n",
              "  </thead>\n",
              "  <tbody>\n",
              "    <tr>\n",
              "      <th>0</th>\n",
              "      <td>25</td>\n",
              "      <td>15</td>\n",
              "      <td>80</td>\n",
              "      <td>34</td>\n",
              "      <td>0.761905</td>\n",
              "      <td>0.693878</td>\n",
              "      <td>0.306122</td>\n",
              "      <td>0.238095</td>\n",
              "      <td>0.761905</td>\n",
              "      <td>0.842105</td>\n",
              "      <td>0.8</td>\n",
              "      <td>0.25974</td>\n",
              "      <td>0.74026</td>\n",
              "      <td>0.727891</td>\n",
              "      <td>0.455782</td>\n",
              "      <td>0.432258</td>\n",
              "    </tr>\n",
              "  </tbody>\n",
              "</table>\n",
              "</div>"
            ],
            "text/plain": [
              "   False negative  False positive  ...  True Skill Statistics  Heidke Skill Score\n",
              "0              25              15  ...               0.455782            0.432258\n",
              "\n",
              "[1 rows x 16 columns]"
            ]
          },
          "metadata": {}
        },
        {
          "output_type": "stream",
          "name": "stdout",
          "text": [
            "iteration : 3\n"
          ]
        },
        {
          "output_type": "display_data",
          "data": {
            "image/png": "[encoded data removed]",
            "text/plain": [
              "<Figure size 432x288 with 1 Axes>"
            ]
          },
          "metadata": {
            "needs_background": "light"
          }
        },
        {
          "output_type": "display_data",
          "data": {
            "text/html": [
              "<div>\n",
              "<style scoped>\n",
              "    .dataframe tbody tr th:only-of-type {\n",
              "        vertical-align: middle;\n",
              "    }\n",
              "\n",
              "    .dataframe tbody tr th {\n",
              "        vertical-align: top;\n",
              "    }\n",
              "\n",
              "    .dataframe thead th {\n",
              "        text-align: right;\n",
              "    }\n",
              "</style>\n",
              "<table border=\"1\" class=\"dataframe\">\n",
              "  <thead>\n",
              "    <tr style=\"text-align: right;\">\n",
              "      <th></th>\n",
              "      <th>False negative</th>\n",
              "      <th>False positive</th>\n",
              "      <th>True positive</th>\n",
              "      <th>True negative</th>\n",
              "      <th>True positive rate</th>\n",
              "      <th>True negative rate</th>\n",
              "      <th>False positive rate</th>\n",
              "      <th>False negative rate</th>\n",
              "      <th>Recall</th>\n",
              "      <th>Precision</th>\n",
              "      <th>F1 measure</th>\n",
              "      <th>Error rate</th>\n",
              "      <th>Accuracy</th>\n",
              "      <th>Balanced Accuracy</th>\n",
              "      <th>True Skill Statistics</th>\n",
              "      <th>Heidke Skill Score</th>\n",
              "    </tr>\n",
              "  </thead>\n",
              "  <tbody>\n",
              "    <tr>\n",
              "      <th>0</th>\n",
              "      <td>15</td>\n",
              "      <td>18</td>\n",
              "      <td>87</td>\n",
              "      <td>34</td>\n",
              "      <td>0.852941</td>\n",
              "      <td>0.653846</td>\n",
              "      <td>0.346154</td>\n",
              "      <td>0.147059</td>\n",
              "      <td>0.852941</td>\n",
              "      <td>0.828571</td>\n",
              "      <td>0.84058</td>\n",
              "      <td>0.214286</td>\n",
              "      <td>0.785714</td>\n",
              "      <td>0.753394</td>\n",
              "      <td>0.506787</td>\n",
              "      <td>0.514056</td>\n",
              "    </tr>\n",
              "  </tbody>\n",
              "</table>\n",
              "</div>"
            ],
            "text/plain": [
              "   False negative  False positive  ...  True Skill Statistics  Heidke Skill Score\n",
              "0              15              18  ...               0.506787            0.514056\n",
              "\n",
              "[1 rows x 16 columns]"
            ]
          },
          "metadata": {}
        },
        {
          "output_type": "stream",
          "name": "stdout",
          "text": [
            "iteration : 4\n"
          ]
        },
        {
          "output_type": "display_data",
          "data": {
            "image/png": "[encoded data removed]",
            "text/plain": [
              "<Figure size 432x288 with 1 Axes>"
            ]
          },
          "metadata": {
            "needs_background": "light"
          }
        },
        {
          "output_type": "display_data",
          "data": {
            "text/html": [
              "<div>\n",
              "<style scoped>\n",
              "    .dataframe tbody tr th:only-of-type {\n",
              "        vertical-align: middle;\n",
              "    }\n",
              "\n",
              "    .dataframe tbody tr th {\n",
              "        vertical-align: top;\n",
              "    }\n",
              "\n",
              "    .dataframe thead th {\n",
              "        text-align: right;\n",
              "    }\n",
              "</style>\n",
              "<table border=\"1\" class=\"dataframe\">\n",
              "  <thead>\n",
              "    <tr style=\"text-align: right;\">\n",
              "      <th></th>\n",
              "      <th>False negative</th>\n",
              "      <th>False positive</th>\n",
              "      <th>True positive</th>\n",
              "      <th>True negative</th>\n",
              "      <th>True positive rate</th>\n",
              "      <th>True negative rate</th>\n",
              "      <th>False positive rate</th>\n",
              "      <th>False negative rate</th>\n",
              "      <th>Recall</th>\n",
              "      <th>Precision</th>\n",
              "      <th>F1 measure</th>\n",
              "      <th>Error rate</th>\n",
              "      <th>Accuracy</th>\n",
              "      <th>Balanced Accuracy</th>\n",
              "      <th>True Skill Statistics</th>\n",
              "      <th>Heidke Skill Score</th>\n",
              "    </tr>\n",
              "  </thead>\n",
              "  <tbody>\n",
              "    <tr>\n",
              "      <th>0</th>\n",
              "      <td>15</td>\n",
              "      <td>19</td>\n",
              "      <td>95</td>\n",
              "      <td>25</td>\n",
              "      <td>0.863636</td>\n",
              "      <td>0.568182</td>\n",
              "      <td>0.431818</td>\n",
              "      <td>0.136364</td>\n",
              "      <td>0.863636</td>\n",
              "      <td>0.833333</td>\n",
              "      <td>0.848214</td>\n",
              "      <td>0.220779</td>\n",
              "      <td>0.779221</td>\n",
              "      <td>0.715909</td>\n",
              "      <td>0.431818</td>\n",
              "      <td>0.443925</td>\n",
              "    </tr>\n",
              "  </tbody>\n",
              "</table>\n",
              "</div>"
            ],
            "text/plain": [
              "   False negative  False positive  ...  True Skill Statistics  Heidke Skill Score\n",
              "0              15              19  ...               0.431818            0.443925\n",
              "\n",
              "[1 rows x 16 columns]"
            ]
          },
          "metadata": {}
        },
        {
          "output_type": "stream",
          "name": "stdout",
          "text": [
            "iteration : 5\n"
          ]
        },
        {
          "output_type": "display_data",
          "data": {
            "image/png": "[encoded data removed]",
            "text/plain": [
              "<Figure size 432x288 with 1 Axes>"
            ]
          },
          "metadata": {
            "needs_background": "light"
          }
        },
        {
          "output_type": "display_data",
          "data": {
            "text/html": [
              "<div>\n",
              "<style scoped>\n",
              "    .dataframe tbody tr th:only-of-type {\n",
              "        vertical-align: middle;\n",
              "    }\n",
              "\n",
              "    .dataframe tbody tr th {\n",
              "        vertical-align: top;\n",
              "    }\n",
              "\n",
              "    .dataframe thead th {\n",
              "        text-align: right;\n",
              "    }\n",
              "</style>\n",
              "<table border=\"1\" class=\"dataframe\">\n",
              "  <thead>\n",
              "    <tr style=\"text-align: right;\">\n",
              "      <th></th>\n",
              "      <th>False negative</th>\n",
              "      <th>False positive</th>\n",
              "      <th>True positive</th>\n",
              "      <th>True negative</th>\n",
              "      <th>True positive rate</th>\n",
              "      <th>True negative rate</th>\n",
              "      <th>False positive rate</th>\n",
              "      <th>False negative rate</th>\n",
              "      <th>Recall</th>\n",
              "      <th>Precision</th>\n",
              "      <th>F1 measure</th>\n",
              "      <th>Error rate</th>\n",
              "      <th>Accuracy</th>\n",
              "      <th>Balanced Accuracy</th>\n",
              "      <th>True Skill Statistics</th>\n",
              "      <th>Heidke Skill Score</th>\n",
              "    </tr>\n",
              "  </thead>\n",
              "  <tbody>\n",
              "    <tr>\n",
              "      <th>0</th>\n",
              "      <td>22</td>\n",
              "      <td>19</td>\n",
              "      <td>85</td>\n",
              "      <td>28</td>\n",
              "      <td>0.794393</td>\n",
              "      <td>0.595745</td>\n",
              "      <td>0.404255</td>\n",
              "      <td>0.205607</td>\n",
              "      <td>0.794393</td>\n",
              "      <td>0.817308</td>\n",
              "      <td>0.805687</td>\n",
              "      <td>0.266234</td>\n",
              "      <td>0.733766</td>\n",
              "      <td>0.695069</td>\n",
              "      <td>0.390137</td>\n",
              "      <td>0.383278</td>\n",
              "    </tr>\n",
              "  </tbody>\n",
              "</table>\n",
              "</div>"
            ],
            "text/plain": [
              "   False negative  False positive  ...  True Skill Statistics  Heidke Skill Score\n",
              "0              22              19  ...               0.390137            0.383278\n",
              "\n",
              "[1 rows x 16 columns]"
            ]
          },
          "metadata": {}
        },
        {
          "output_type": "stream",
          "name": "stdout",
          "text": [
            "iteration : 6\n"
          ]
        },
        {
          "output_type": "display_data",
          "data": {
            "image/png": "[encoded data removed]",
            "text/plain": [
              "<Figure size 432x288 with 1 Axes>"
            ]
          },
          "metadata": {
            "needs_background": "light"
          }
        },
        {
          "output_type": "display_data",
          "data": {
            "text/html": [
              "<div>\n",
              "<style scoped>\n",
              "    .dataframe tbody tr th:only-of-type {\n",
              "        vertical-align: middle;\n",
              "    }\n",
              "\n",
              "    .dataframe tbody tr th {\n",
              "        vertical-align: top;\n",
              "    }\n",
              "\n",
              "    .dataframe thead th {\n",
              "        text-align: right;\n",
              "    }\n",
              "</style>\n",
              "<table border=\"1\" class=\"dataframe\">\n",
              "  <thead>\n",
              "    <tr style=\"text-align: right;\">\n",
              "      <th></th>\n",
              "      <th>False negative</th>\n",
              "      <th>False positive</th>\n",
              "      <th>True positive</th>\n",
              "      <th>True negative</th>\n",
              "      <th>True positive rate</th>\n",
              "      <th>True negative rate</th>\n",
              "      <th>False positive rate</th>\n",
              "      <th>False negative rate</th>\n",
              "      <th>Recall</th>\n",
              "      <th>Precision</th>\n",
              "      <th>F1 measure</th>\n",
              "      <th>Error rate</th>\n",
              "      <th>Accuracy</th>\n",
              "      <th>Balanced Accuracy</th>\n",
              "      <th>True Skill Statistics</th>\n",
              "      <th>Heidke Skill Score</th>\n",
              "    </tr>\n",
              "  </thead>\n",
              "  <tbody>\n",
              "    <tr>\n",
              "      <th>0</th>\n",
              "      <td>16</td>\n",
              "      <td>15</td>\n",
              "      <td>87</td>\n",
              "      <td>36</td>\n",
              "      <td>0.84466</td>\n",
              "      <td>0.705882</td>\n",
              "      <td>0.294118</td>\n",
              "      <td>0.15534</td>\n",
              "      <td>0.84466</td>\n",
              "      <td>0.852941</td>\n",
              "      <td>0.84878</td>\n",
              "      <td>0.201299</td>\n",
              "      <td>0.798701</td>\n",
              "      <td>0.775271</td>\n",
              "      <td>0.550543</td>\n",
              "      <td>0.547831</td>\n",
              "    </tr>\n",
              "  </tbody>\n",
              "</table>\n",
              "</div>"
            ],
            "text/plain": [
              "   False negative  False positive  ...  True Skill Statistics  Heidke Skill Score\n",
              "0              16              15  ...               0.550543            0.547831\n",
              "\n",
              "[1 rows x 16 columns]"
            ]
          },
          "metadata": {}
        },
        {
          "output_type": "stream",
          "name": "stdout",
          "text": [
            "iteration : 7\n"
          ]
        },
        {
          "output_type": "display_data",
          "data": {
            "image/png": "[encoded data removed]",
            "text/plain": [
              "<Figure size 432x288 with 1 Axes>"
            ]
          },
          "metadata": {
            "needs_background": "light"
          }
        },
        {
          "output_type": "display_data",
          "data": {
            "text/html": [
              "<div>\n",
              "<style scoped>\n",
              "    .dataframe tbody tr th:only-of-type {\n",
              "        vertical-align: middle;\n",
              "    }\n",
              "\n",
              "    .dataframe tbody tr th {\n",
              "        vertical-align: top;\n",
              "    }\n",
              "\n",
              "    .dataframe thead th {\n",
              "        text-align: right;\n",
              "    }\n",
              "</style>\n",
              "<table border=\"1\" class=\"dataframe\">\n",
              "  <thead>\n",
              "    <tr style=\"text-align: right;\">\n",
              "      <th></th>\n",
              "      <th>False negative</th>\n",
              "      <th>False positive</th>\n",
              "      <th>True positive</th>\n",
              "      <th>True negative</th>\n",
              "      <th>True positive rate</th>\n",
              "      <th>True negative rate</th>\n",
              "      <th>False positive rate</th>\n",
              "      <th>False negative rate</th>\n",
              "      <th>Recall</th>\n",
              "      <th>Precision</th>\n",
              "      <th>F1 measure</th>\n",
              "      <th>Error rate</th>\n",
              "      <th>Accuracy</th>\n",
              "      <th>Balanced Accuracy</th>\n",
              "      <th>True Skill Statistics</th>\n",
              "      <th>Heidke Skill Score</th>\n",
              "    </tr>\n",
              "  </thead>\n",
              "  <tbody>\n",
              "    <tr>\n",
              "      <th>0</th>\n",
              "      <td>28</td>\n",
              "      <td>12</td>\n",
              "      <td>80</td>\n",
              "      <td>34</td>\n",
              "      <td>0.740741</td>\n",
              "      <td>0.73913</td>\n",
              "      <td>0.26087</td>\n",
              "      <td>0.259259</td>\n",
              "      <td>0.740741</td>\n",
              "      <td>0.869565</td>\n",
              "      <td>0.8</td>\n",
              "      <td>0.25974</td>\n",
              "      <td>0.74026</td>\n",
              "      <td>0.739936</td>\n",
              "      <td>0.479871</td>\n",
              "      <td>0.43631</td>\n",
              "    </tr>\n",
              "  </tbody>\n",
              "</table>\n",
              "</div>"
            ],
            "text/plain": [
              "   False negative  False positive  ...  True Skill Statistics  Heidke Skill Score\n",
              "0              28              12  ...               0.479871             0.43631\n",
              "\n",
              "[1 rows x 16 columns]"
            ]
          },
          "metadata": {}
        },
        {
          "output_type": "stream",
          "name": "stdout",
          "text": [
            "iteration : 8\n"
          ]
        },
        {
          "output_type": "display_data",
          "data": {
            "image/png": "[encoded data removed]",
            "text/plain": [
              "<Figure size 432x288 with 1 Axes>"
            ]
          },
          "metadata": {
            "needs_background": "light"
          }
        },
        {
          "output_type": "display_data",
          "data": {
            "text/html": [
              "<div>\n",
              "<style scoped>\n",
              "    .dataframe tbody tr th:only-of-type {\n",
              "        vertical-align: middle;\n",
              "    }\n",
              "\n",
              "    .dataframe tbody tr th {\n",
              "        vertical-align: top;\n",
              "    }\n",
              "\n",
              "    .dataframe thead th {\n",
              "        text-align: right;\n",
              "    }\n",
              "</style>\n",
              "<table border=\"1\" class=\"dataframe\">\n",
              "  <thead>\n",
              "    <tr style=\"text-align: right;\">\n",
              "      <th></th>\n",
              "      <th>False negative</th>\n",
              "      <th>False positive</th>\n",
              "      <th>True positive</th>\n",
              "      <th>True negative</th>\n",
              "      <th>True positive rate</th>\n",
              "      <th>True negative rate</th>\n",
              "      <th>False positive rate</th>\n",
              "      <th>False negative rate</th>\n",
              "      <th>Recall</th>\n",
              "      <th>Precision</th>\n",
              "      <th>F1 measure</th>\n",
              "      <th>Error rate</th>\n",
              "      <th>Accuracy</th>\n",
              "      <th>Balanced Accuracy</th>\n",
              "      <th>True Skill Statistics</th>\n",
              "      <th>Heidke Skill Score</th>\n",
              "    </tr>\n",
              "  </thead>\n",
              "  <tbody>\n",
              "    <tr>\n",
              "      <th>0</th>\n",
              "      <td>25</td>\n",
              "      <td>13</td>\n",
              "      <td>95</td>\n",
              "      <td>21</td>\n",
              "      <td>0.791667</td>\n",
              "      <td>0.617647</td>\n",
              "      <td>0.382353</td>\n",
              "      <td>0.208333</td>\n",
              "      <td>0.791667</td>\n",
              "      <td>0.87963</td>\n",
              "      <td>0.833333</td>\n",
              "      <td>0.246753</td>\n",
              "      <td>0.753247</td>\n",
              "      <td>0.704657</td>\n",
              "      <td>0.409314</td>\n",
              "      <td>0.363359</td>\n",
              "    </tr>\n",
              "  </tbody>\n",
              "</table>\n",
              "</div>"
            ],
            "text/plain": [
              "   False negative  False positive  ...  True Skill Statistics  Heidke Skill Score\n",
              "0              25              13  ...               0.409314            0.363359\n",
              "\n",
              "[1 rows x 16 columns]"
            ]
          },
          "metadata": {}
        },
        {
          "output_type": "stream",
          "name": "stdout",
          "text": [
            "iteration : 9\n"
          ]
        },
        {
          "output_type": "display_data",
          "data": {
            "image/png": "[encoded data removed]",
            "text/plain": [
              "<Figure size 432x288 with 1 Axes>"
            ]
          },
          "metadata": {
            "needs_background": "light"
          }
        },
        {
          "output_type": "display_data",
          "data": {
            "text/html": [
              "<div>\n",
              "<style scoped>\n",
              "    .dataframe tbody tr th:only-of-type {\n",
              "        vertical-align: middle;\n",
              "    }\n",
              "\n",
              "    .dataframe tbody tr th {\n",
              "        vertical-align: top;\n",
              "    }\n",
              "\n",
              "    .dataframe thead th {\n",
              "        text-align: right;\n",
              "    }\n",
              "</style>\n",
              "<table border=\"1\" class=\"dataframe\">\n",
              "  <thead>\n",
              "    <tr style=\"text-align: right;\">\n",
              "      <th></th>\n",
              "      <th>False negative</th>\n",
              "      <th>False positive</th>\n",
              "      <th>True positive</th>\n",
              "      <th>True negative</th>\n",
              "      <th>True positive rate</th>\n",
              "      <th>True negative rate</th>\n",
              "      <th>False positive rate</th>\n",
              "      <th>False negative rate</th>\n",
              "      <th>Recall</th>\n",
              "      <th>Precision</th>\n",
              "      <th>F1 measure</th>\n",
              "      <th>Error rate</th>\n",
              "      <th>Accuracy</th>\n",
              "      <th>Balanced Accuracy</th>\n",
              "      <th>True Skill Statistics</th>\n",
              "      <th>Heidke Skill Score</th>\n",
              "    </tr>\n",
              "  </thead>\n",
              "  <tbody>\n",
              "    <tr>\n",
              "      <th>0</th>\n",
              "      <td>17</td>\n",
              "      <td>21</td>\n",
              "      <td>80</td>\n",
              "      <td>36</td>\n",
              "      <td>0.824742</td>\n",
              "      <td>0.631579</td>\n",
              "      <td>0.368421</td>\n",
              "      <td>0.175258</td>\n",
              "      <td>0.824742</td>\n",
              "      <td>0.792079</td>\n",
              "      <td>0.808081</td>\n",
              "      <td>0.246753</td>\n",
              "      <td>0.753247</td>\n",
              "      <td>0.728161</td>\n",
              "      <td>0.456321</td>\n",
              "      <td>0.463021</td>\n",
              "    </tr>\n",
              "  </tbody>\n",
              "</table>\n",
              "</div>"
            ],
            "text/plain": [
              "   False negative  False positive  ...  True Skill Statistics  Heidke Skill Score\n",
              "0              17              21  ...               0.456321            0.463021\n",
              "\n",
              "[1 rows x 16 columns]"
            ]
          },
          "metadata": {}
        },
        {
          "output_type": "stream",
          "name": "stdout",
          "text": [
            "iteration : 10\n"
          ]
        },
        {
          "output_type": "display_data",
          "data": {
            "image/png": "[encoded data removed]",
            "text/plain": [
              "<Figure size 432x288 with 1 Axes>"
            ]
          },
          "metadata": {
            "needs_background": "light"
          }
        },
        {
          "output_type": "display_data",
          "data": {
            "text/html": [
              "<div>\n",
              "<style scoped>\n",
              "    .dataframe tbody tr th:only-of-type {\n",
              "        vertical-align: middle;\n",
              "    }\n",
              "\n",
              "    .dataframe tbody tr th {\n",
              "        vertical-align: top;\n",
              "    }\n",
              "\n",
              "    .dataframe thead th {\n",
              "        text-align: right;\n",
              "    }\n",
              "</style>\n",
              "<table border=\"1\" class=\"dataframe\">\n",
              "  <thead>\n",
              "    <tr style=\"text-align: right;\">\n",
              "      <th></th>\n",
              "      <th>False negative</th>\n",
              "      <th>False positive</th>\n",
              "      <th>True positive</th>\n",
              "      <th>True negative</th>\n",
              "      <th>True positive rate</th>\n",
              "      <th>True negative rate</th>\n",
              "      <th>False positive rate</th>\n",
              "      <th>False negative rate</th>\n",
              "      <th>Recall</th>\n",
              "      <th>Precision</th>\n",
              "      <th>F1 measure</th>\n",
              "      <th>Error rate</th>\n",
              "      <th>Accuracy</th>\n",
              "      <th>Balanced Accuracy</th>\n",
              "      <th>True Skill Statistics</th>\n",
              "      <th>Heidke Skill Score</th>\n",
              "    </tr>\n",
              "  </thead>\n",
              "  <tbody>\n",
              "    <tr>\n",
              "      <th>0</th>\n",
              "      <td>29</td>\n",
              "      <td>17</td>\n",
              "      <td>80</td>\n",
              "      <td>28</td>\n",
              "      <td>0.733945</td>\n",
              "      <td>0.622222</td>\n",
              "      <td>0.377778</td>\n",
              "      <td>0.266055</td>\n",
              "      <td>0.733945</td>\n",
              "      <td>0.824742</td>\n",
              "      <td>0.776699</td>\n",
              "      <td>0.298701</td>\n",
              "      <td>0.701299</td>\n",
              "      <td>0.678084</td>\n",
              "      <td>0.356167</td>\n",
              "      <td>0.330308</td>\n",
              "    </tr>\n",
              "  </tbody>\n",
              "</table>\n",
              "</div>"
            ],
            "text/plain": [
              "   False negative  False positive  ...  True Skill Statistics  Heidke Skill Score\n",
              "0              29              17  ...               0.356167            0.330308\n",
              "\n",
              "[1 rows x 16 columns]"
            ]
          },
          "metadata": {}
        },
        {
          "output_type": "stream",
          "name": "stdout",
          "text": [
            "Mean Accuracy of Random Forest on data:  75.1948051948052\n"
          ]
        }
      ]
    }
  ]
}